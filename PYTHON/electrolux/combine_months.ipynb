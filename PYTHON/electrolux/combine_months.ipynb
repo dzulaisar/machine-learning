{
 "cells": [
  {
   "cell_type": "code",
   "execution_count": 1,
   "metadata": {},
   "outputs": [],
   "source": [
    "import pandas as pd\n",
    "import numpy as np\n",
    "import os\n",
    "import matplotlib.pyplot as plt\n",
    "import re"
   ]
  },
  {
   "cell_type": "markdown",
   "metadata": {},
   "source": [
    "## Reading data"
   ]
  },
  {
   "cell_type": "code",
   "execution_count": 2,
   "metadata": {},
   "outputs": [],
   "source": [
    "# Define base directory\n",
    "# base_dir = r'C:\\Users\\aisar\\OneDrive\\Documents\\ELECTROLUX\\PROCESSED-DATA\\TEMP'\n",
    "base_dir = r'C:\\Users\\aisar\\OneDrive\\Documents\\ELECTROLUX\\PROCESSED-DATA'"
   ]
  },
  {
   "cell_type": "markdown",
   "metadata": {},
   "source": [
    "### Q13"
   ]
  },
  {
   "cell_type": "code",
   "execution_count": 3,
   "metadata": {},
   "outputs": [],
   "source": [
    "# Load data\n",
    "# sept13 = pd.read_excel(os.path.join(base_dir, 'SEPTEMBER', 'combined_q13.xlsx'))\n",
    "# oct13 = pd.read_excel(os.path.join(base_dir, 'OCTOBER', 'combined_q13.xlsx'))\n",
    "# nov13 = pd.read_excel(os.path.join(base_dir, 'NOVEMBER', 'combined_q13.xlsx'))\n",
    "\n",
    "# september13 = pd.read_excel(r'C:\\Users\\aisar\\OneDrive\\Documents\\ELECTROLUX\\PROCESSED-DATA\\SEPTEMBER\\combined_q13.xlsx')\n",
    "# october13 = pd.read_excel(r'C:\\Users\\aisar\\OneDrive\\Documents\\ELECTROLUX\\PROCESSED-DATA\\OCTOBER\\combined_q13.xlsx')"
   ]
  },
  {
   "cell_type": "code",
   "execution_count": 4,
   "metadata": {},
   "outputs": [
    {
     "name": "stdout",
     "output_type": "stream",
     "text": [
      "Loading data from: C:\\Users\\aisar\\OneDrive\\Documents\\ELECTROLUX\\PROCESSED-DATA\\SEPTEMBER\\combined_q13.xlsx\n",
      "Loading data from: C:\\Users\\aisar\\OneDrive\\Documents\\ELECTROLUX\\PROCESSED-DATA\\OCTOBER\\combined_q13.xlsx\n",
      "Loading data from: C:\\Users\\aisar\\OneDrive\\Documents\\ELECTROLUX\\PROCESSED-DATA\\NOVEMBER\\combined_q13.xlsx\n",
      "Loading data from: C:\\Users\\aisar\\OneDrive\\Documents\\ELECTROLUX\\PROCESSED-DATA\\DECEMBER\\combined_q13.xlsx\n",
      "September Q13 Data Preview:\n",
      "   Response ID    Brand  Aware Y/N\n",
      "0          217  Samsung          0\n",
      "1          219  Samsung          0\n",
      "\n",
      "October Q13 Data Preview:\n",
      "   Response ID    Brand  Aware Y/N\n",
      "0        16909  Samsung          1\n",
      "1        16910  Samsung          0\n",
      "\n",
      "November Q13 Data Preview:\n",
      "   Response ID    Brand  Aware Y/N\n",
      "0        48910  Samsung          0\n",
      "1        48926  Samsung          1\n",
      "\n",
      "December Q13 Data Preview:\n",
      "   Response ID    Brand  Aware Y/N\n",
      "0        78293  Samsung          1\n",
      "1        78361  Samsung          1\n"
     ]
    }
   ],
   "source": [
    "# Helper function to load Excel files\n",
    "def load_excel_file(subfolder, filename):\n",
    "    file_path = os.path.join(base_dir, subfolder, filename)\n",
    "    try:\n",
    "        print(f\"Loading data from: {file_path}\")\n",
    "        return pd.read_excel(file_path)\n",
    "    except FileNotFoundError:\n",
    "        print(f\"Error: File not found at {file_path}\")\n",
    "        return None\n",
    "\n",
    "sept13 = load_excel_file('SEPTEMBER', 'combined_q13.xlsx')\n",
    "oct13 = load_excel_file('OCTOBER', 'combined_q13.xlsx')\n",
    "nov13 = load_excel_file('NOVEMBER', 'combined_q13.xlsx')\n",
    "dec13 = load_excel_file('DECEMBER', 'combined_q13.xlsx')\n",
    "\n",
    "# Preview the first few rows of both datasets\n",
    "if sept13 is not None:\n",
    "    print(\"September Q13 Data Preview:\")\n",
    "    print(sept13.head(2))\n",
    "\n",
    "if oct13 is not None:\n",
    "    print(\"\\nOctober Q13 Data Preview:\")\n",
    "    print(oct13.head(2))\n",
    "\n",
    "if nov13 is not None:\n",
    "    print(\"\\nNovember Q13 Data Preview:\")\n",
    "    print(nov13.head(2))\n",
    "\n",
    "if dec13 is not None:\n",
    "    print(\"\\nDecember Q13 Data Preview:\")\n",
    "    print(dec13.head(2))"
   ]
  },
  {
   "cell_type": "markdown",
   "metadata": {},
   "source": [
    "### Q14"
   ]
  },
  {
   "cell_type": "code",
   "execution_count": 12,
   "metadata": {},
   "outputs": [],
   "source": [
    "# # Helper function to load Excel files\n",
    "# def load_excel_file(subfolder, filename):\n",
    "#     file_path = os.path.join(base_dir, subfolder, filename)\n",
    "#     try:\n",
    "#         print(f\"Loading data from: {file_path}\")\n",
    "#         return pd.read_excel(file_path)\n",
    "#     except FileNotFoundError:\n",
    "#         print(f\"Error: File not found at {file_path}\")\n",
    "#         return None\n",
    "\n",
    "# sept14 = load_excel_file('SEPTEMBER', 'combined_q14.xlsx')\n",
    "# oct14 = load_excel_file('OCTOBER', 'combined_q14.xlsx')\n",
    "# nov14 = load_excel_file('NOVEMBER', 'combined_q14.xlsx')\n",
    "\n",
    "# # Function to calculate DataFrame size in MB\n",
    "# def calculate_size_in_mb(df, name):\n",
    "#     if df is not None:\n",
    "#         size_in_bytes = df.memory_usage(deep=True).sum()\n",
    "#         size_in_mb = size_in_bytes / (1024 * 1024)\n",
    "#         print(f\"Size of {name}: {size_in_mb:.2f} MB\")\n",
    "#     else:\n",
    "#         print(f\"{name} is not loaded.\")\n",
    "\n",
    "# # Preview the first few rows and calculate size in MB\n",
    "# if sept14 is not None:\n",
    "#     print(\"September Q14 Data Preview:\")\n",
    "#     print(sept14.head(2))\n",
    "#     calculate_size_in_mb(sept14, \"September Q14 Data\")\n",
    "\n",
    "# if oct14 is not None:\n",
    "#     print(\"\\nOctober Q14 Data Preview:\")\n",
    "#     print(oct14.head(2))\n",
    "#     calculate_size_in_mb(oct14, \"October Q14 Data\")\n",
    "\n",
    "# if nov14 is not None:\n",
    "#     print(\"\\nNovember Q14 Data Preview:\")\n",
    "#     print(nov14.head(2))\n",
    "#     calculate_size_in_mb(nov14, \"November Q14 Data\")\n"
   ]
  },
  {
   "cell_type": "code",
   "execution_count": 5,
   "metadata": {},
   "outputs": [
    {
     "name": "stdout",
     "output_type": "stream",
     "text": [
      "Loading data from: C:\\Users\\aisar\\OneDrive\\Documents\\ELECTROLUX\\PROCESSED-DATA\\SEPTEMBER\\combined_q14.xlsx\n",
      "Loading data from: C:\\Users\\aisar\\OneDrive\\Documents\\ELECTROLUX\\PROCESSED-DATA\\OCTOBER\\combined_q14.xlsx\n",
      "Loading data from: C:\\Users\\aisar\\OneDrive\\Documents\\ELECTROLUX\\PROCESSED-DATA\\NOVEMBER\\combined_q14.xlsx\n",
      "Loading data from: C:\\Users\\aisar\\OneDrive\\Documents\\ELECTROLUX\\PROCESSED-DATA\\DECEMBER\\combined_q14.xlsx\n",
      "September Q14 Data Preview:\n",
      "   Response ID                                             Source  \\\n",
      "0          217  Not seen/heard:DYSON:AU - Where have you seen,...   \n",
      "1          217  Not seen/heard:SMEG:AU - Where have you seen, ...   \n",
      "\n",
      "   cleaned_source  Brand_awareness  Brand  \n",
      "0  Not seen/heard                0  DYSON  \n",
      "1  Not seen/heard               99   SMEG  \n",
      "\n",
      "October Q14 Data Preview:\n",
      "   Response ID                                             Source  \\\n",
      "0        16909  Somewhere else:HAIER:AU - Where have you seen,...   \n",
      "1        16909  At Events (fairs & exhibitions, sports, cookin...   \n",
      "\n",
      "                                      cleaned_source  Brand_awareness  Brand  \n",
      "0                                     Somewhere else                0  HAIER  \n",
      "1  At Events (fairs & exhibitions, sports, cookin...                0  MIELE  \n",
      "\n",
      "November Q14 Data Preview:\n",
      "   Response ID                                             Source  \\\n",
      "0        48910  Newspaper/Magazine (advertisements):SMEG:AU - ...   \n",
      "1        48910  On TV (live, catch up or on demand):SMEG:AU - ...   \n",
      "\n",
      "                        cleaned_source  Brand_awareness Brand  \n",
      "0  Newspaper/Magazine (advertisements)                0  SMEG  \n",
      "1  On TV (live, catch up or on demand)                0  SMEG  \n",
      "\n",
      "December Q14 Data Preview:\n",
      "   Response ID                                             Source  \\\n",
      "0        78230  At Events (fairs & exhibitions, sports, cookin...   \n",
      "1        78230  When searching or shopping online:SAMSUNG:GM -...   \n",
      "\n",
      "                                      cleaned_source  Brand_awareness    Brand  \n",
      "0  At Events (fairs & exhibitions, sports, cookin...                0       LG  \n",
      "1                  When searching or shopping online                0  SAMSUNG  \n"
     ]
    }
   ],
   "source": [
    "# Helper function to load Excel files\n",
    "def load_excel_file(subfolder, filename):\n",
    "    file_path = os.path.join(base_dir, subfolder, filename)\n",
    "    try:\n",
    "        print(f\"Loading data from: {file_path}\")\n",
    "        return pd.read_excel(file_path)\n",
    "    except FileNotFoundError:\n",
    "        print(f\"Error: File not found at {file_path}\")\n",
    "        return None\n",
    "\n",
    "sept14 = load_excel_file('SEPTEMBER', 'combined_q14.xlsx')\n",
    "oct14 = load_excel_file('OCTOBER', 'combined_q14.xlsx')\n",
    "nov14 = load_excel_file('NOVEMBER', 'combined_q14.xlsx')\n",
    "dec14 = load_excel_file('DECEMBER', 'combined_q14.xlsx')\n",
    "\n",
    "# Preview the first few rows of both datasets\n",
    "if sept14 is not None:\n",
    "    print(\"September Q14 Data Preview:\")\n",
    "    print(sept14.head(2))\n",
    "\n",
    "if oct14 is not None:\n",
    "    print(\"\\nOctober Q14 Data Preview:\")\n",
    "    print(oct14.head(2))\n",
    "\n",
    "if nov14 is not None:\n",
    "    print(\"\\nNovember Q14 Data Preview:\")\n",
    "    print(nov14.head(2))\n",
    "\n",
    "if dec14 is not None:\n",
    "    print(\"\\nDecember Q14 Data Preview:\")\n",
    "    print(dec14.head(2))"
   ]
  },
  {
   "cell_type": "code",
   "execution_count": 14,
   "metadata": {},
   "outputs": [
    {
     "name": "stdout",
     "output_type": "stream",
     "text": [
      "Response ID\n",
      "48906    144\n",
      "16909    144\n",
      "16910    144\n",
      "16911    144\n",
      "16913    144\n",
      "        ... \n",
      "43147    143\n",
      "43162    143\n",
      "42985    143\n",
      "42986    143\n",
      "42993    143\n",
      "Name: count, Length: 3597, dtype: int64\n"
     ]
    }
   ],
   "source": [
    "count = oct14['Response ID'].value_counts()\n",
    "print(count)"
   ]
  },
  {
   "cell_type": "markdown",
   "metadata": {},
   "source": [
    "### Q15"
   ]
  },
  {
   "cell_type": "code",
   "execution_count": 6,
   "metadata": {},
   "outputs": [
    {
     "name": "stdout",
     "output_type": "stream",
     "text": [
      "Loading data from: C:\\Users\\aisar\\OneDrive\\Documents\\ELECTROLUX\\PROCESSED-DATA\\SEPTEMBER\\combined_q15.xlsx\n",
      "Loading data from: C:\\Users\\aisar\\OneDrive\\Documents\\ELECTROLUX\\PROCESSED-DATA\\OCTOBER\\combined_q15.xlsx\n",
      "Loading data from: C:\\Users\\aisar\\OneDrive\\Documents\\ELECTROLUX\\PROCESSED-DATA\\NOVEMBER\\combined_q15.xlsx\n",
      "Loading data from: C:\\Users\\aisar\\OneDrive\\Documents\\ELECTROLUX\\PROCESSED-DATA\\DECEMBER\\combined_q15.xlsx\n",
      "September Q15 Data Preview:\n",
      "   Response ID                                           Platform  \\\n",
      "0          217  Online search (e.g. Google, Bing):LG:AU - And ...   \n",
      "1          217  Online search (e.g. Google, Bing):BOSCH:AU - A...   \n",
      "\n",
      "                    Platform_cleaned  Seen Y/N  Brand  \n",
      "0  Online search (e.g. Google, Bing)         0     LG  \n",
      "1  Online search (e.g. Google, Bing)         0  BOSCH  \n",
      "\n",
      "October Q15 Data Preview:\n",
      "   Response ID                                           Platform  \\\n",
      "0        16909  Online search (e.g. Google, Bing):SAMSUNG:AU -...   \n",
      "1        16909  Online shopping website:SAMSUNG:AU - And on wh...   \n",
      "\n",
      "                    Platform_cleaned  Seen Y/N    Brand  \n",
      "0  Online search (e.g. Google, Bing)         0  SAMSUNG  \n",
      "1            Online shopping website         0  SAMSUNG  \n",
      "\n",
      "November Q15 Data Preview:\n",
      "   Response ID                                           Platform  \\\n",
      "0        48910  None of the above:FISHER&PAYKEL:AU - And on wh...   \n",
      "1        48910  Price comparison site:WESTINGHOUSE:AU - And on...   \n",
      "\n",
      "        Platform_cleaned  Seen Y/N          Brand  \n",
      "0      None of the above         0  FISHER&PAYKEL  \n",
      "1  Price comparison site         0   WESTINGHOUSE  \n",
      "\n",
      "November Q15 Data Preview:\n",
      "   Response ID                                           Platform  \\\n",
      "0        78230  Online search (e.g. Google, Bing):BOSCH:GM - A...   \n",
      "1        78230  None of the above:ROWENTA:GM - And on which of...   \n",
      "\n",
      "                    Platform_cleaned  Seen Y/N    Brand  \n",
      "0  Online search (e.g. Google, Bing)         0    BOSCH  \n",
      "1                  None of the above         0  ROWENTA  \n"
     ]
    }
   ],
   "source": [
    "# Helper function to load Excel files\n",
    "def load_excel_file(subfolder, filename):\n",
    "    file_path = os.path.join(base_dir, subfolder, filename)\n",
    "    try:\n",
    "        print(f\"Loading data from: {file_path}\")\n",
    "        return pd.read_excel(file_path)\n",
    "    except FileNotFoundError:\n",
    "        print(f\"Error: File not found at {file_path}\")\n",
    "        return None\n",
    "\n",
    "sept15 = load_excel_file('SEPTEMBER', 'combined_q15.xlsx')\n",
    "oct15 = load_excel_file('OCTOBER', 'combined_q15.xlsx')\n",
    "nov15 = load_excel_file('NOVEMBER', 'combined_q15.xlsx')\n",
    "dec15 = load_excel_file('DECEMBER', 'combined_q15.xlsx')\n",
    "\n",
    "# Preview the first few rows of both datasets\n",
    "if sept15 is not None:\n",
    "    print(\"September Q15 Data Preview:\")\n",
    "    print(sept15.head(2))\n",
    "\n",
    "if oct15 is not None:\n",
    "    print(\"\\nOctober Q15 Data Preview:\")\n",
    "    print(oct15.head(2))\n",
    "\n",
    "if nov15 is not None:\n",
    "    print(\"\\nNovember Q15 Data Preview:\")\n",
    "    print(nov15.head(2))\n",
    "\n",
    "if dec15 is not None:\n",
    "    print(\"\\nNovember Q15 Data Preview:\")\n",
    "    print(dec15.head(2))"
   ]
  },
  {
   "cell_type": "markdown",
   "metadata": {},
   "source": [
    "### Q16"
   ]
  },
  {
   "cell_type": "code",
   "execution_count": 7,
   "metadata": {},
   "outputs": [
    {
     "name": "stdout",
     "output_type": "stream",
     "text": [
      "Loading data from: C:\\Users\\aisar\\OneDrive\\Documents\\ELECTROLUX\\PROCESSED-DATA\\SEPTEMBER\\combined_q16.xlsx\n",
      "Loading data from: C:\\Users\\aisar\\OneDrive\\Documents\\ELECTROLUX\\PROCESSED-DATA\\OCTOBER\\combined_q16.xlsx\n",
      "Loading data from: C:\\Users\\aisar\\OneDrive\\Documents\\ELECTROLUX\\PROCESSED-DATA\\NOVEMBER\\combined_q16.xlsx\n",
      "Loading data from: C:\\Users\\aisar\\OneDrive\\Documents\\ELECTROLUX\\PROCESSED-DATA\\DECEMBER\\combined_q16.xlsx\n",
      "September Q16 Data Preview:\n",
      "   Response ID                                       SCM_Platform  \\\n",
      "0          217  Instagram content:FISHER&PAYKEL:AU - And which...   \n",
      "1          217  Live streaming:HAIER:AU - And which of these t...   \n",
      "\n",
      "  SCM_Platform_cleaned  Y/N          Brand  \n",
      "0    Instagram content    1  FISHER&PAYKEL  \n",
      "1       Live streaming    0          HAIER  \n",
      "\n",
      "October Q16 Data Preview:\n",
      "   Response ID                                       SCM_Platform  \\\n",
      "0        16909  Live streaming:MIELE:AU - And which of these t...   \n",
      "1        16909  Tik Tok content:DYSON:AU - And which of these ...   \n",
      "\n",
      "  SCM_Platform_cleaned  Y/N  Brand  \n",
      "0       Live streaming    0  MIELE  \n",
      "1      Tik Tok content    0  DYSON  \n",
      "\n",
      "November Q16 Data Preview:\n",
      "   Response ID                                       SCM_Platform  \\\n",
      "0        48910  Live streaming:SMEG:AU - And which of these ty...   \n",
      "1        48910  Instagram content:DYSON:AU - And which of thes...   \n",
      "\n",
      "  SCM_Platform_cleaned  Y/N  Brand  \n",
      "0       Live streaming    0   SMEG  \n",
      "1    Instagram content    0  DYSON  \n",
      "\n",
      "December Q16 Data Preview:\n",
      "   Response ID                                       SCM_Platform  \\\n",
      "0        78230  Live streaming:BOSCH:GM - And which of these t...   \n",
      "1        78230  Collaboration with Influencer:AEG:GM - And whi...   \n",
      "\n",
      "            SCM_Platform_cleaned  Y/N  Brand  \n",
      "0                 Live streaming    0  BOSCH  \n",
      "1  Collaboration with Influencer    0    AEG  \n"
     ]
    }
   ],
   "source": [
    "# Helper function to load Excel files\n",
    "def load_excel_file(subfolder, filename):\n",
    "    file_path = os.path.join(base_dir, subfolder, filename)\n",
    "    try:\n",
    "        print(f\"Loading data from: {file_path}\")\n",
    "        return pd.read_excel(file_path)\n",
    "    except FileNotFoundError:\n",
    "        print(f\"Error: File not found at {file_path}\")\n",
    "        return None\n",
    "\n",
    "sept16 = load_excel_file('SEPTEMBER', 'combined_q16.xlsx')\n",
    "oct16 = load_excel_file('OCTOBER', 'combined_q16.xlsx')\n",
    "nov16 = load_excel_file('NOVEMBER', 'combined_q16.xlsx')\n",
    "dec16 = load_excel_file('DECEMBER', 'combined_q16.xlsx')\n",
    "\n",
    "\n",
    "# Preview the first few rows of both datasets\n",
    "if sept16 is not None:\n",
    "    print(\"September Q16 Data Preview:\")\n",
    "    print(sept16.head(2))\n",
    "\n",
    "if oct16 is not None:\n",
    "    print(\"\\nOctober Q16 Data Preview:\")\n",
    "    print(oct16.head(2))\n",
    "\n",
    "if nov16 is not None:\n",
    "    print(\"\\nNovember Q16 Data Preview:\")\n",
    "    print(nov16.head(2))\n",
    "\n",
    "if dec16 is not None:\n",
    "    print(\"\\nDecember Q16 Data Preview:\")\n",
    "    print(dec16.head(2))"
   ]
  },
  {
   "cell_type": "markdown",
   "metadata": {},
   "source": [
    "### Q17"
   ]
  },
  {
   "cell_type": "code",
   "execution_count": 8,
   "metadata": {},
   "outputs": [
    {
     "name": "stdout",
     "output_type": "stream",
     "text": [
      "Loading data from: C:\\Users\\aisar\\OneDrive\\Documents\\ELECTROLUX\\PROCESSED-DATA\\SEPTEMBER\\combined_q17.xlsx\n",
      "Loading data from: C:\\Users\\aisar\\OneDrive\\Documents\\ELECTROLUX\\PROCESSED-DATA\\OCTOBER\\combined_q17.xlsx\n",
      "Loading data from: C:\\Users\\aisar\\OneDrive\\Documents\\ELECTROLUX\\PROCESSED-DATA\\NOVEMBER\\combined_q17.xlsx\n",
      "Loading data from: C:\\Users\\aisar\\OneDrive\\Documents\\ELECTROLUX\\PROCESSED-DATA\\DECEMBER\\combined_q17.xlsx\n",
      "September Q17 Data Preview:\n",
      "   Response ID                                     Offline_source  \\\n",
      "0          217  Large Roadside Posters/ billboards:SAMSUNG:AU ...   \n",
      "1          217  Large Roadside Posters/ billboards:WESTINGHOUS...   \n",
      "\n",
      "               Offline_source_cleaned  Y/N         Brand  \n",
      "0  Large Roadside Posters/ billboards    0       SAMSUNG  \n",
      "1  Large Roadside Posters/ billboards    0  WESTINGHOUSE  \n",
      "\n",
      "October Q17 Data Preview:\n",
      "   Response ID                                     Offline_source  \\\n",
      "0        16909  On transport (eg bus-sides and taxis):HISENSE:...   \n",
      "1        16909  At events (eg concerts  / festivals):AEG:AU - ...   \n",
      "\n",
      "                  Offline_source_cleaned  Y/N    Brand  \n",
      "0  On transport (eg bus-sides and taxis)    0  HISENSE  \n",
      "1   At events (eg concerts  / festivals)    0      AEG  \n",
      "\n",
      "November Q17 Data Preview:\n",
      "   Response ID                                     Offline_source  \\\n",
      "0        48910  On transport (eg bus-sides and taxis):BOSCH:AU...   \n",
      "1        48910  At sports stadiums (e.g. on the perimeter boar...   \n",
      "\n",
      "                              Offline_source_cleaned  Y/N  Brand  \n",
      "0              On transport (eg bus-sides and taxis)    0  BOSCH  \n",
      "1  At sports stadiums (e.g. on the perimeter boards)    0  MIELE  \n",
      "\n",
      "December Q17 Data Preview:\n",
      "   Response ID                                     Offline_source  \\\n",
      "0        78230  Large Roadside Posters/ billboards:BOSCH:GM - ...   \n",
      "1        78230  Large Roadside Posters/ billboards:ROWENTA:GM ...   \n",
      "\n",
      "               Offline_source_cleaned  Y/N    Brand  \n",
      "0  Large Roadside Posters/ billboards    0    BOSCH  \n",
      "1  Large Roadside Posters/ billboards    0  ROWENTA  \n"
     ]
    }
   ],
   "source": [
    "# Helper function to load Excel files\n",
    "def load_excel_file(subfolder, filename):\n",
    "    file_path = os.path.join(base_dir, subfolder, filename)\n",
    "    try:\n",
    "        print(f\"Loading data from: {file_path}\")\n",
    "        return pd.read_excel(file_path)\n",
    "    except FileNotFoundError:\n",
    "        print(f\"Error: File not found at {file_path}\")\n",
    "        return None\n",
    "\n",
    "sept17 = load_excel_file('SEPTEMBER', 'combined_q17.xlsx')\n",
    "oct17 = load_excel_file('OCTOBER', 'combined_q17.xlsx')\n",
    "nov17 = load_excel_file('NOVEMBER', 'combined_q17.xlsx')\n",
    "dec17 = load_excel_file('DECEMBER', 'combined_q17.xlsx')\n",
    "\n",
    "# Preview the first few rows of both datasets\n",
    "if sept17 is not None:\n",
    "    print(\"September Q17 Data Preview:\")\n",
    "    print(sept17.head(2))\n",
    "\n",
    "if oct17 is not None:\n",
    "    print(\"\\nOctober Q17 Data Preview:\")\n",
    "    print(oct17.head(2))\n",
    "\n",
    "if nov17 is not None:\n",
    "    print(\"\\nNovember Q17 Data Preview:\")\n",
    "    print(nov17.head(2))\n",
    "\n",
    "if dec17 is not None:\n",
    "    print(\"\\nDecember Q17 Data Preview:\")\n",
    "    print(dec17.head(2))"
   ]
  },
  {
   "cell_type": "markdown",
   "metadata": {},
   "source": [
    "### Q18"
   ]
  },
  {
   "cell_type": "code",
   "execution_count": 9,
   "metadata": {},
   "outputs": [
    {
     "name": "stdout",
     "output_type": "stream",
     "text": [
      "Loading data from: C:\\Users\\aisar\\OneDrive\\Documents\\ELECTROLUX\\PROCESSED-DATA\\SEPTEMBER\\combined_q18.xlsx\n",
      "Loading data from: C:\\Users\\aisar\\OneDrive\\Documents\\ELECTROLUX\\PROCESSED-DATA\\OCTOBER\\combined_q18.xlsx\n",
      "Loading data from: C:\\Users\\aisar\\OneDrive\\Documents\\ELECTROLUX\\PROCESSED-DATA\\NOVEMBER\\combined_q18.xlsx\n",
      "Loading data from: C:\\Users\\aisar\\OneDrive\\Documents\\ELECTROLUX\\PROCESSED-DATA\\DECEMBER\\combined_q18.xlsx\n",
      "September Q18 Data Preview:\n",
      "   Response ID                                   Product_Category  \\\n",
      "0          217  Hob:LG:AU - Which product categories from each...   \n",
      "1          217  Refrigerator:SAMSUNG:AU - Which product catego...   \n",
      "\n",
      "  Product_Category_cleaned  Seen or Heard Y/N    Brand Experience_Area  \n",
      "0                      Hob                  0       LG           Taste  \n",
      "1             Refrigerator                  0  SAMSUNG           Taste  \n",
      "\n",
      "October Q18 Data Preview:\n",
      "   Response ID                                   Product_Category  \\\n",
      "0        16909  Hob:DYSON:AU - Which product categories from e...   \n",
      "1        16909  Air Purifier:DYSON:AU - Which product categori...   \n",
      "\n",
      "  Product_Category_cleaned  Seen or Heard Y/N  Brand  Experience_Area  \n",
      "0                      Hob                  0  DYSON            Taste  \n",
      "1             Air Purifier                  0  DYSON  Wellbeing & SDA  \n",
      "\n",
      "November Q18 Data Preview:\n",
      "   Response ID                                   Product_Category  \\\n",
      "0        48910  Vacuum Cleaners:ELECTROLUX:AU - Which product ...   \n",
      "1        48910  Tumble Dryers:WESTINGHOUSE:AU - Which product ...   \n",
      "\n",
      "  Product_Category_cleaned  Seen or Heard Y/N         Brand  Experience_Area  \n",
      "0          Vacuum Cleaners                  1    ELECTROLUX  Wellbeing & SDA  \n",
      "1            Tumble Dryers                  0  WESTINGHOUSE             Care  \n",
      "\n",
      "December Q18 Data Preview:\n",
      "   Response ID                                   Product_Category  \\\n",
      "0        78230  Oven:SIEMENS:GM - Which product categories fro...   \n",
      "1        78230  None of these:PHILIPS:GM - Which product categ...   \n",
      "\n",
      "  Product_Category_cleaned  Seen or Heard Y/N    Brand Experience_Area  \n",
      "0                     Oven                  0  SIEMENS           Taste  \n",
      "1            None of these                  0  PHILIPS           Other  \n"
     ]
    }
   ],
   "source": [
    "# Helper function to load Excel files\n",
    "def load_excel_file(subfolder, filename):\n",
    "    file_path = os.path.join(base_dir, subfolder, filename)\n",
    "    try:\n",
    "        print(f\"Loading data from: {file_path}\")\n",
    "        return pd.read_excel(file_path)\n",
    "    except FileNotFoundError:\n",
    "        print(f\"Error: File not found at {file_path}\")\n",
    "        return None\n",
    "\n",
    "sept18 = load_excel_file('SEPTEMBER', 'combined_q18.xlsx')\n",
    "oct18 = load_excel_file('OCTOBER', 'combined_q18.xlsx')\n",
    "nov18 = load_excel_file('NOVEMBER', 'combined_q18.xlsx')\n",
    "dec18 = load_excel_file('DECEMBER', 'combined_q18.xlsx')\n",
    "\n",
    "# Preview the first few rows of both datasets\n",
    "if sept18 is not None:\n",
    "    print(\"September Q18 Data Preview:\")\n",
    "    print(sept18.head(2))\n",
    "\n",
    "if oct18 is not None:\n",
    "    print(\"\\nOctober Q18 Data Preview:\")\n",
    "    print(oct18.head(2))\n",
    "\n",
    "if nov18 is not None:\n",
    "    print(\"\\nNovember Q18 Data Preview:\")\n",
    "    print(nov18.head(2))\n",
    "\n",
    "if dec18 is not None:\n",
    "    print(\"\\nDecember Q18 Data Preview:\")\n",
    "    print(dec18.head(2))"
   ]
  },
  {
   "cell_type": "markdown",
   "metadata": {},
   "source": [
    "### Q19"
   ]
  },
  {
   "cell_type": "code",
   "execution_count": 10,
   "metadata": {},
   "outputs": [
    {
     "name": "stdout",
     "output_type": "stream",
     "text": [
      "Loading data from: C:\\Users\\aisar\\OneDrive\\Documents\\ELECTROLUX\\PROCESSED-DATA\\SEPTEMBER\\combined_q19.xlsx\n",
      "Loading data from: C:\\Users\\aisar\\OneDrive\\Documents\\ELECTROLUX\\PROCESSED-DATA\\OCTOBER\\combined_q19.xlsx\n",
      "Loading data from: C:\\Users\\aisar\\OneDrive\\Documents\\ELECTROLUX\\PROCESSED-DATA\\NOVEMBER\\combined_q19.xlsx\n",
      "Loading data from: C:\\Users\\aisar\\OneDrive\\Documents\\ELECTROLUX\\PROCESSED-DATA\\DECEMBER\\combined_q19.xlsx\n",
      "September Q19 Data Preview:\n",
      "   Response ID                                         Appliances  \\\n",
      "0          244  A built-in fridge or fridge / freezer:GM - Whi...   \n",
      "1          245  A built-in fridge or fridge / freezer:GM - Whi...   \n",
      "\n",
      "                      Appliances_cleaned  Bought_last12Mths Y/N  \n",
      "0  A built-in fridge or fridge / freezer                      0  \n",
      "1  A built-in fridge or fridge / freezer                      0  \n",
      "\n",
      "October Q19 Data Preview:\n",
      "   Response ID                                         Appliances  \\\n",
      "0        16972  A built-in fridge or fridge / freezer:GM - Whi...   \n",
      "1        17045  A built-in fridge or fridge / freezer:GM - Whi...   \n",
      "\n",
      "                      Appliances_cleaned  Bought_last12Mths Y/N  \n",
      "0  A built-in fridge or fridge / freezer                      0  \n",
      "1  A built-in fridge or fridge / freezer                      0  \n",
      "\n",
      "November Q19 Data Preview:\n",
      "   Response ID                                         Appliances  \\\n",
      "0        48912  A built-in fridge or fridge / freezer:GM - Whi...   \n",
      "1        48913  A built-in fridge or fridge / freezer:GM - Whi...   \n",
      "\n",
      "                      Appliances_cleaned  Bought_last12Mths Y/N  \n",
      "0  A built-in fridge or fridge / freezer                      0  \n",
      "1  A built-in fridge or fridge / freezer                      0  \n",
      "\n",
      "December Q19 Data Preview:\n",
      "   Response ID                                         Appliances  \\\n",
      "0        78230  A built-in fridge or fridge / freezer:GM - Whi...   \n",
      "1        78263  A built-in fridge or fridge / freezer:GM - Whi...   \n",
      "\n",
      "                      Appliances_cleaned  Bought_last12Mths Y/N  \n",
      "0  A built-in fridge or fridge / freezer                      0  \n",
      "1  A built-in fridge or fridge / freezer                      0  \n"
     ]
    }
   ],
   "source": [
    "# Helper function to load Excel files\n",
    "def load_excel_file(subfolder, filename):\n",
    "    file_path = os.path.join(base_dir, subfolder, filename)\n",
    "    try:\n",
    "        print(f\"Loading data from: {file_path}\")\n",
    "        return pd.read_excel(file_path)\n",
    "    except FileNotFoundError:\n",
    "        print(f\"Error: File not found at {file_path}\")\n",
    "        return None\n",
    "\n",
    "sept19 = load_excel_file('SEPTEMBER', 'combined_q19.xlsx')\n",
    "oct19 = load_excel_file('OCTOBER', 'combined_q19.xlsx')\n",
    "nov19 = load_excel_file('NOVEMBER', 'combined_q19.xlsx')\n",
    "dec19 = load_excel_file('DECEMBER', 'combined_q19.xlsx')\n",
    "\n",
    "# Preview the first few rows of both datasets\n",
    "if sept19 is not None:\n",
    "    print(\"September Q19 Data Preview:\")\n",
    "    print(sept19.head(2))\n",
    "\n",
    "if oct19 is not None:\n",
    "    print(\"\\nOctober Q19 Data Preview:\")\n",
    "    print(oct19.head(2))\n",
    "\n",
    "if nov19 is not None:\n",
    "    print(\"\\nNovember Q19 Data Preview:\")\n",
    "    print(nov19.head(2))\n",
    "\n",
    "if dec19 is not None:\n",
    "    print(\"\\nDecember Q19 Data Preview:\")\n",
    "    print(dec19.head(2))"
   ]
  },
  {
   "cell_type": "markdown",
   "metadata": {},
   "source": [
    "### Q20"
   ]
  },
  {
   "cell_type": "code",
   "execution_count": 11,
   "metadata": {},
   "outputs": [
    {
     "name": "stdout",
     "output_type": "stream",
     "text": [
      "Loading data from: C:\\Users\\aisar\\OneDrive\\Documents\\ELECTROLUX\\PROCESSED-DATA\\SEPTEMBER\\combined_q20.xlsx\n",
      "Loading data from: C:\\Users\\aisar\\OneDrive\\Documents\\ELECTROLUX\\PROCESSED-DATA\\OCTOBER\\combined_q20.xlsx\n",
      "Loading data from: C:\\Users\\aisar\\OneDrive\\Documents\\ELECTROLUX\\PROCESSED-DATA\\NOVEMBER\\combined_q20.xlsx\n",
      "Loading data from: C:\\Users\\aisar\\OneDrive\\Documents\\ELECTROLUX\\PROCESSED-DATA\\DECEMBER\\combined_q20.xlsx\n",
      "September Q20 Data Preview:\n",
      "   Response ID                                         Appliances  \\\n",
      "0          244  A built-in fridge or fridge / freezer:GM - Whi...   \n",
      "1          245  A built-in fridge or fridge / freezer:GM - Whi...   \n",
      "\n",
      "                      Appliances_cleaned  IntendtoBuy_next12Mths Y/N  \n",
      "0  A built-in fridge or fridge / freezer                           0  \n",
      "1  A built-in fridge or fridge / freezer                           1  \n",
      "\n",
      "October Q20 Data Preview:\n",
      "   Response ID                                         Appliances  \\\n",
      "0        16972  A built-in fridge or fridge / freezer:GM - Whi...   \n",
      "1        17045  A built-in fridge or fridge / freezer:GM - Whi...   \n",
      "\n",
      "                      Appliances_cleaned  IntendtoBuy_next12Mths Y/N  \n",
      "0  A built-in fridge or fridge / freezer                           0  \n",
      "1  A built-in fridge or fridge / freezer                           0  \n",
      "\n",
      "November Q20 Data Preview:\n",
      "   Response ID                                         Appliances  \\\n",
      "0        48912  A built-in fridge or fridge / freezer:GM - Whi...   \n",
      "1        48913  A built-in fridge or fridge / freezer:GM - Whi...   \n",
      "\n",
      "                      Appliances_cleaned  IntendtoBuy_next12Mths Y/N  \n",
      "0  A built-in fridge or fridge / freezer                           1  \n",
      "1  A built-in fridge or fridge / freezer                           0  \n",
      "\n",
      "December Q20 Data Preview:\n",
      "   Response ID                                         Appliances  \\\n",
      "0        78230  A built-in fridge or fridge / freezer:GM - Whi...   \n",
      "1        78263  A built-in fridge or fridge / freezer:GM - Whi...   \n",
      "\n",
      "                      Appliances_cleaned  IntendtoBuy_next12Mths Y/N  \n",
      "0  A built-in fridge or fridge / freezer                           0  \n",
      "1  A built-in fridge or fridge / freezer                           0  \n"
     ]
    }
   ],
   "source": [
    "# Helper function to load Excel files\n",
    "def load_excel_file(subfolder, filename):\n",
    "    file_path = os.path.join(base_dir, subfolder, filename)\n",
    "    try:\n",
    "        print(f\"Loading data from: {file_path}\")\n",
    "        return pd.read_excel(file_path)\n",
    "    except FileNotFoundError:\n",
    "        print(f\"Error: File not found at {file_path}\")\n",
    "        return None\n",
    "\n",
    "sept20 = load_excel_file('SEPTEMBER', 'combined_q20.xlsx')\n",
    "oct20 = load_excel_file('OCTOBER', 'combined_q20.xlsx')\n",
    "nov20 = load_excel_file('NOVEMBER', 'combined_q20.xlsx')\n",
    "dec20 = load_excel_file('DECEMBER', 'combined_q20.xlsx')\n",
    "\n",
    "# Preview the first few rows of both datasets\n",
    "if sept20 is not None:\n",
    "    print(\"September Q20 Data Preview:\")\n",
    "    print(sept20.head(2))\n",
    "\n",
    "if oct20 is not None:\n",
    "    print(\"\\nOctober Q20 Data Preview:\")\n",
    "    print(oct20.head(2))\n",
    "\n",
    "if nov20 is not None:\n",
    "    print(\"\\nNovember Q20 Data Preview:\")\n",
    "    print(nov20.head(2))\n",
    "\n",
    "if dec20 is not None:\n",
    "    print(\"\\nDecember Q20 Data Preview:\")\n",
    "    print(dec20.head(2))"
   ]
  },
  {
   "cell_type": "markdown",
   "metadata": {},
   "source": [
    "### User Profile"
   ]
  },
  {
   "cell_type": "code",
   "execution_count": 12,
   "metadata": {},
   "outputs": [
    {
     "name": "stdout",
     "output_type": "stream",
     "text": [
      "Loading data from: C:\\Users\\aisar\\OneDrive\\Documents\\ELECTROLUX\\PROCESSED-DATA\\SEPTEMBER\\combined_user_profile.xlsx\n",
      "Loading data from: C:\\Users\\aisar\\OneDrive\\Documents\\ELECTROLUX\\PROCESSED-DATA\\OCTOBER\\combined_user_profile.xlsx\n",
      "Loading data from: C:\\Users\\aisar\\OneDrive\\Documents\\ELECTROLUX\\PROCESSED-DATA\\NOVEMBER\\combined_user_profile.xlsx\n",
      "Loading data from: C:\\Users\\aisar\\OneDrive\\Documents\\ELECTROLUX\\PROCESSED-DATA\\DECEMBER\\combined_user_profile.xlsx\n",
      "September User Profile Data Preview:\n",
      "   Response ID      Date Submitted    Status     IP Address  Longitude  \\\n",
      "0          244 2024-09-17 11:22:00  Complete   91.6.146.237          7   \n",
      "1          245 2024-09-17 11:23:00  Complete  84.156.191.80          9   \n",
      "\n",
      "   Latitude  Country                City State/Region Postal  ...  \\\n",
      "0        53  Germany               Emden            6  26723  ...   \n",
      "1        50  Germany  Morfelden-walldorf            5  64546  ...   \n",
      "\n",
      "   Which country are you currently residing in?         Region  \\\n",
      "0                                             2  Niedersachsen   \n",
      "1                                             2         Hessen   \n",
      "\n",
      "  Which_of_the_following_best_describes_the_area_in_which_you_live?  Gender  \\\n",
      "0                           Suburban/ city outskirts                 Female   \n",
      "1                           Suburban/ city outskirts                   Male   \n",
      "\n",
      "  Age  Age_Range  Range_household_income  \\\n",
      "0  27      25-34     € 37.500 - € 39.999   \n",
      "1  34      25-34     € 50.000 - € 59.999   \n",
      "\n",
      "   highest level of education you have completed?  \\\n",
      "0                     Middle School / High School   \n",
      "1                                      University   \n",
      "\n",
      "   best applies to the home you live in?  \\\n",
      "0                              I rent it   \n",
      "1                              I rent it   \n",
      "\n",
      "                                      Decision maker  \n",
      "0  I share responsibility with someone else in th...  \n",
      "1  I share responsibility with someone else in th...  \n",
      "\n",
      "[2 rows x 32 columns]\n",
      "\n",
      "October User Profile Data Preview:\n",
      "   Response ID       Date Submitted    Status      IP Address  Longitude  \\\n",
      "0        16972  30/09/2024 10:28:34  Complete  93.234.120.207         11   \n",
      "1        17045  30/09/2024 10:38:14  Complete   87.152.199.15          9   \n",
      "\n",
      "   Latitude  Country        City State/Region Postal  ...  \\\n",
      "0        49  Germany  Ingolstadt            2  85057  ...   \n",
      "1        52  Germany      Hameln            6  31787  ...   \n",
      "\n",
      "   Which country are you currently residing in?         Region  \\\n",
      "0                                             2         Bayern   \n",
      "1                                             2  Niedersachsen   \n",
      "\n",
      "  Which_of_the_following_best_describes_the_area_in_which_you_live?  Gender  \\\n",
      "0                           Suburban/ city outskirts                 Female   \n",
      "1                             Urban city/ large town                 Female   \n",
      "\n",
      "  Age  Age Range  Range_household_income  \\\n",
      "0  44      35-44     € 50.000 - € 59.999   \n",
      "1  37      35-44     € 70.000 - € 80.000   \n",
      "\n",
      "   highest level of education you have completed?  \\\n",
      "0                     Middle School / High School   \n",
      "1                                      University   \n",
      "\n",
      "   best applies to the home you live in?  \\\n",
      "0                              I rent it   \n",
      "1                               I own it   \n",
      "\n",
      "                                      Decision maker  \n",
      "0  I am solely responsible for choosing the domes...  \n",
      "1  I am solely responsible for choosing the domes...  \n",
      "\n",
      "[2 rows x 32 columns]\n",
      "\n",
      "November User Profile Data Preview:\n",
      "   Response ID       Date Submitted    Status     IP Address  Longitude  \\\n",
      "0        48912  28/10/2024 14:31:46  Complete  109.42.240.45          9   \n",
      "1        48913  28/10/2024 14:31:40  Complete   2.205.73.137         13   \n",
      "\n",
      "   Latitude  Country    City State/Region Postal  ...  \\\n",
      "0        51  Germany     NaN          NaN    NaN  ...   \n",
      "1        52  Germany  Berlin           16  12203  ...   \n",
      "\n",
      "   Which country are you currently residing in?   Region  \\\n",
      "0                                             2  Sachsen   \n",
      "1                                             2   Berlin   \n",
      "\n",
      "  Which_of_the_following_best_describes_the_area_in_which_you_live?  Gender  \\\n",
      "0                             Urban city/ large town                 Female   \n",
      "1                             Urban city/ large town                 Female   \n",
      "\n",
      "  Age  Age Range  Range_household_income  \\\n",
      "0  33      25-34     € 70.000 - € 80.000   \n",
      "1  56      45-60          Up to € 19.999   \n",
      "\n",
      "   highest level of education you have completed?  \\\n",
      "0                                      University   \n",
      "1                                          Others   \n",
      "\n",
      "   best applies to the home you live in?  \\\n",
      "0                              I rent it   \n",
      "1                              I rent it   \n",
      "\n",
      "                                      Decision maker  \n",
      "0  I am solely responsible for choosing the domes...  \n",
      "1  I am solely responsible for choosing the domes...  \n",
      "\n",
      "[2 rows x 32 columns]\n",
      "\n",
      "December User Profile Data Preview:\n",
      "   Response ID       Date Submitted    Status     IP Address  Longitude  \\\n",
      "0        78230  25/11/2024 16:40:55  Complete  81.89.172.225        9.0   \n",
      "1        78263  25/11/2024 17:32:48  Complete   89.247.204.9       12.0   \n",
      "\n",
      "   Latitude  Country    City State/Region Postal  ...  \\\n",
      "0      51.0  Germany     NaN          NaN    NaN  ...   \n",
      "1      48.0  Germany  Munich           02  80803  ...   \n",
      "\n",
      "   Which country are you currently residing in?  Region  \\\n",
      "0                                             2  Bayern   \n",
      "1                                             2  Bayern   \n",
      "\n",
      "  Which_of_the_following_best_describes_the_area_in_which_you_live?  Gender  \\\n",
      "0                                     Rural/ village                 Female   \n",
      "1                             Urban city/ large town                   Male   \n",
      "\n",
      "  Age  Age Range  Range_household_income  \\\n",
      "0  43      35-44     € 60.000 - € 69.999   \n",
      "1  28      25-34     € 50.000 - € 59.999   \n",
      "\n",
      "   highest level of education you have completed?  \\\n",
      "0                     Middle School / High School   \n",
      "1                     Middle School / High School   \n",
      "\n",
      "   best applies to the home you live in?  \\\n",
      "0                               I own it   \n",
      "1                              I rent it   \n",
      "\n",
      "                                      Decision maker  \n",
      "0  I am solely responsible for choosing the domes...  \n",
      "1  I share responsibility with someone else in th...  \n",
      "\n",
      "[2 rows x 32 columns]\n"
     ]
    }
   ],
   "source": [
    "# Helper function to load Excel files\n",
    "def load_excel_file(subfolder, filename):\n",
    "    file_path = os.path.join(base_dir, subfolder, filename)\n",
    "    try:\n",
    "        print(f\"Loading data from: {file_path}\")\n",
    "        return pd.read_excel(file_path)\n",
    "    except FileNotFoundError:\n",
    "        print(f\"Error: File not found at {file_path}\")\n",
    "        return None\n",
    "\n",
    "sept_userprofile = load_excel_file('SEPTEMBER', 'combined_user_profile.xlsx')\n",
    "oct_userprofile = load_excel_file('OCTOBER', 'combined_user_profile.xlsx')\n",
    "nov_userprofile = load_excel_file('NOVEMBER', 'combined_user_profile.xlsx')\n",
    "dec_userprofile = load_excel_file('DECEMBER', 'combined_user_profile.xlsx')\n",
    "\n",
    "# Preview the first few rows of both datasets\n",
    "if sept_userprofile is not None:\n",
    "    print(\"September User Profile Data Preview:\")\n",
    "    print(sept_userprofile.head(2))\n",
    "\n",
    "if oct_userprofile is not None:\n",
    "    print(\"\\nOctober User Profile Data Preview:\")\n",
    "    print(oct_userprofile.head(2))\n",
    "\n",
    "if nov_userprofile is not None:\n",
    "    print(\"\\nNovember User Profile Data Preview:\")\n",
    "    print(nov_userprofile.head(2))\n",
    "\n",
    "if dec_userprofile is not None:\n",
    "    print(\"\\nDecember User Profile Data Preview:\")\n",
    "    print(dec_userprofile.head(2))"
   ]
  },
  {
   "cell_type": "markdown",
   "metadata": {},
   "source": [
    "## Concat file"
   ]
  },
  {
   "cell_type": "code",
   "execution_count": 22,
   "metadata": {},
   "outputs": [
    {
     "name": "stdout",
     "output_type": "stream",
     "text": [
      "<class 'pandas.core.frame.DataFrame'>\n",
      "RangeIndex: 171180 entries, 0 to 171179\n",
      "Data columns (total 3 columns):\n",
      " #   Column       Non-Null Count   Dtype \n",
      "---  ------       --------------   ----- \n",
      " 0   Response ID  171180 non-null  int64 \n",
      " 1   Brand        171180 non-null  object\n",
      " 2   Aware Y/N    171180 non-null  int64 \n",
      "dtypes: int64(2), object(1)\n",
      "memory usage: 3.9+ MB\n"
     ]
    }
   ],
   "source": [
    "combined_13 = pd.concat([sept13, oct13, nov13, dec13], ignore_index=True)\n",
    "\n",
    "combined_13.to_csv(r'C:\\Users\\aisar\\OneDrive\\Documents\\ELECTROLUX\\PROCESSED-DATA\\COMBINED\\SEPT-DEC\\merged_dec_Q13.csv', float_format='%.0f', index=False)\n",
    "combined_13.info()"
   ]
  },
  {
   "cell_type": "code",
   "execution_count": 23,
   "metadata": {},
   "outputs": [
    {
     "name": "stdout",
     "output_type": "stream",
     "text": [
      "<class 'pandas.core.frame.DataFrame'>\n",
      "RangeIndex: 2058112 entries, 0 to 2058111\n",
      "Data columns (total 5 columns):\n",
      " #   Column           Dtype \n",
      "---  ------           ----- \n",
      " 0   Response ID      int64 \n",
      " 1   Source           object\n",
      " 2   cleaned_source   object\n",
      " 3   Brand_awareness  int64 \n",
      " 4   Brand            object\n",
      "dtypes: int64(2), object(3)\n",
      "memory usage: 78.5+ MB\n"
     ]
    }
   ],
   "source": [
    "combined_14 = pd.concat([sept14, oct14, nov14, dec14], ignore_index=True)\n",
    "\n",
    "combined_14.to_csv(r'C:\\Users\\aisar\\OneDrive\\Documents\\ELECTROLUX\\PROCESSED-DATA\\COMBINED\\SEPT-DEC\\merged_dec_Q14.csv', float_format='%.0f', index=False)\n",
    "combined_14.info()"
   ]
  },
  {
   "cell_type": "code",
   "execution_count": 24,
   "metadata": {},
   "outputs": [
    {
     "name": "stdout",
     "output_type": "stream",
     "text": [
      "cleaned_source\n",
      "Not seen/heard                                                            171576\n",
      "Newspaper/Magazine (advertisements)                                       171576\n",
      "YouTube / Video                                                           171576\n",
      "From a friend, family or someone else I know                              171576\n",
      "At Events (fairs & exhibitions, sports, cooking, etc.)                    171576\n",
      "When searching or shopping online                                         171576\n",
      "In a store                                                                171576\n",
      "Outdoors (e.g. poster, bus stop, LCD/screen, underground, street lamp)    171576\n",
      "On TV (live, catch up or on demand)                                       171576\n",
      "Social media, e.g. Facebook and/or Instagram                              171576\n",
      "Somewhere else                                                            170776\n",
      "On a brand’s own website, app or e-mail                                   129648\n",
      "On a brand's own website, app or e-mail                                    41928\n",
      "Name: count, dtype: int64\n"
     ]
    }
   ],
   "source": [
    "print(combined_14['cleaned_source'].value_counts())"
   ]
  },
  {
   "cell_type": "code",
   "execution_count": 25,
   "metadata": {},
   "outputs": [
    {
     "name": "stdout",
     "output_type": "stream",
     "text": [
      "cleaned_source\n",
      "Not seen/heard                                                            171576\n",
      "Newspaper/Magazine (advertisements)                                       171576\n",
      "YouTube / Video                                                           171576\n",
      "From a friend, family or someone else I know                              171576\n",
      "At Events (fairs & exhibitions, sports, cooking, etc.)                    171576\n",
      "When searching or shopping online                                         171576\n",
      "In a store                                                                171576\n",
      "Outdoors (e.g. poster, bus stop, LCD/screen, underground, street lamp)    171576\n",
      "On TV (live, catch up or on demand)                                       171576\n",
      "Social media, e.g. Facebook and/or Instagram                              171576\n",
      "Somewhere else                                                            170776\n",
      "On a brand’s own website, app or e-mail                                   129648\n",
      "On a brand's own website, app or e-mail                                    41928\n",
      "Name: count, dtype: int64\n"
     ]
    }
   ],
   "source": [
    "# Normalize column names by replacing curly quotes with straight quotes\n",
    "combined_14.columns = combined_14.columns.str.replace('’', \"'\", regex=False)\n",
    "combined_14.columns = combined_14.columns.str.replace('‘', \"'\", regex=False)\n",
    "\n",
    "# Now rename the column\n",
    "combined_14 = combined_14.rename(columns={\n",
    "    \"On a brand's own website, app or e-mail\": \"On a brand's own website, app or e-mail\"\n",
    "})\n",
    "\n",
    "print(combined_14['cleaned_source'].value_counts())\n"
   ]
  },
  {
   "cell_type": "code",
   "execution_count": 26,
   "metadata": {},
   "outputs": [],
   "source": [
    "# Normalize column names by replacing curly quotes with straight quotes\n",
    "combined_14.columns = combined_14.columns.str.replace('’', \"'\", regex=False)\n",
    "combined_14.columns = combined_14.columns.str.replace('‘', \"'\", regex=False)\n"
   ]
  },
  {
   "cell_type": "code",
   "execution_count": 27,
   "metadata": {},
   "outputs": [],
   "source": [
    "# Standardize the 'cleaned_source' column values\n",
    "combined_14['cleaned_source'] = combined_14['cleaned_source'].str.replace('’', \"'\", regex=False)\n",
    "combined_14['cleaned_source'] = combined_14['cleaned_source'].str.replace('‘', \"'\", regex=False)\n"
   ]
  },
  {
   "cell_type": "code",
   "execution_count": 28,
   "metadata": {},
   "outputs": [
    {
     "name": "stdout",
     "output_type": "stream",
     "text": [
      "cleaned_source\n",
      "Not seen/heard                                                            171576\n",
      "Newspaper/Magazine (advertisements)                                       171576\n",
      "YouTube / Video                                                           171576\n",
      "On a brand's own website, app or e-mail                                   171576\n",
      "On TV (live, catch up or on demand)                                       171576\n",
      "At Events (fairs & exhibitions, sports, cooking, etc.)                    171576\n",
      "From a friend, family or someone else I know                              171576\n",
      "Outdoors (e.g. poster, bus stop, LCD/screen, underground, street lamp)    171576\n",
      "In a store                                                                171576\n",
      "When searching or shopping online                                         171576\n",
      "Social media, e.g. Facebook and/or Instagram                              171576\n",
      "Somewhere else                                                            170776\n",
      "Name: count, dtype: int64\n"
     ]
    }
   ],
   "source": [
    "# Check for duplicates in the 'cleaned_source' column\n",
    "print(combined_14['cleaned_source'].value_counts())\n"
   ]
  },
  {
   "cell_type": "code",
   "execution_count": null,
   "metadata": {},
   "outputs": [
    {
     "ename": "",
     "evalue": "",
     "output_type": "error",
     "traceback": [
      "\u001b[1;31mThe Kernel crashed while executing code in the current cell or a previous cell. \n",
      "\u001b[1;31mPlease review the code in the cell(s) to identify a possible cause of the failure. \n",
      "\u001b[1;31mClick <a href='https://aka.ms/vscodeJupyterKernelCrash'>here</a> for more info. \n",
      "\u001b[1;31mView Jupyter <a href='command:jupyter.viewOutput'>log</a> for further details."
     ]
    }
   ],
   "source": [
    "# combined_14.to_csv(r'C:\\Users\\aisar\\OneDrive\\Documents\\ELECTROLUX\\PROCESSED-DATA\\COMBINED\\SEPT-NOV\\merged_nov_Q14.csv', float_format='%.0f', index=False)"
   ]
  },
  {
   "cell_type": "code",
   "execution_count": null,
   "metadata": {},
   "outputs": [
    {
     "name": "stdout",
     "output_type": "stream",
     "text": [
      "Parquet file size: 4.22 MB\n",
      "Compressed CSV file size: 12.21 MB\n"
     ]
    }
   ],
   "source": [
    "# import pandas as pd\n",
    "# import os\n",
    "\n",
    "# combined_14 = pd.concat([sept14, oct14, nov14], ignore_index=True)\n",
    "\n",
    "# # Save as a compressed Parquet file\n",
    "# parquet_file_path = r'C:\\Users\\aisar\\OneDrive\\Documents\\ELECTROLUX\\PROCESSED-DATA\\COMBINED\\SEPT-NOV\\merged_nov_Q14.parquet'\n",
    "# combined_14.to_parquet(parquet_file_path, engine='pyarrow', compression='snappy', index=False)\n",
    "\n",
    "# # Check the size of the Parquet file\n",
    "# parquet_file_size = os.path.getsize(parquet_file_path) / (1024 * 1024)  # Convert bytes to MB\n",
    "# print(f\"Parquet file size: {parquet_file_size:.2f} MB\")\n",
    "\n",
    "# # Optionally save as a compressed CSV file\n",
    "# csv_file_path = r'C:\\Users\\aisar\\OneDrive\\Documents\\ELECTROLUX\\PROCESSED-DATA\\COMBINED\\SEPT-NOV\\merged_nov_Q14.csv.gz'\n",
    "# combined_14.to_csv(csv_file_path, float_format='%.0f', index=False, compression='gzip')\n",
    "\n",
    "# # Check the size of the compressed CSV file\n",
    "# csv_file_size = os.path.getsize(csv_file_path) / (1024 * 1024)  # Convert bytes to MB\n",
    "# print(f\"Compressed CSV file size: {csv_file_size:.2f} MB\")\n"
   ]
  },
  {
   "cell_type": "code",
   "execution_count": 29,
   "metadata": {},
   "outputs": [
    {
     "name": "stdout",
     "output_type": "stream",
     "text": [
      "<class 'pandas.core.frame.DataFrame'>\n",
      "RangeIndex: 828631 entries, 0 to 828630\n",
      "Data columns (total 5 columns):\n",
      " #   Column            Non-Null Count   Dtype \n",
      "---  ------            --------------   ----- \n",
      " 0   Response ID       828631 non-null  int64 \n",
      " 1   Platform          828631 non-null  object\n",
      " 2   Platform_cleaned  828631 non-null  object\n",
      " 3   Seen Y/N          828631 non-null  int64 \n",
      " 4   Brand             828631 non-null  object\n",
      "dtypes: int64(2), object(3)\n",
      "memory usage: 31.6+ MB\n"
     ]
    }
   ],
   "source": [
    "combined_15 = pd.concat([sept15, oct15, nov15, dec15], ignore_index=True)\n",
    "\n",
    "combined_15.to_csv(r'C:\\Users\\aisar\\OneDrive\\Documents\\ELECTROLUX\\PROCESSED-DATA\\COMBINED\\SEPT-DEC\\merged_dec_Q15.csv', float_format='%.0f', index=False)\n",
    "combined_15.info()"
   ]
  },
  {
   "cell_type": "code",
   "execution_count": 33,
   "metadata": {},
   "outputs": [
    {
     "name": "stdout",
     "output_type": "stream",
     "text": [
      "<class 'pandas.core.frame.DataFrame'>\n",
      "RangeIndex: 1181191 entries, 0 to 1181190\n",
      "Data columns (total 5 columns):\n",
      " #   Column                Non-Null Count    Dtype \n",
      "---  ------                --------------    ----- \n",
      " 0   Response ID           1181191 non-null  int64 \n",
      " 1   SCM_Platform          1181191 non-null  object\n",
      " 2   SCM_Platform_cleaned  1181191 non-null  object\n",
      " 3   Y/N                   1181191 non-null  int64 \n",
      " 4   Brand                 1181191 non-null  object\n",
      "dtypes: int64(2), object(3)\n",
      "memory usage: 45.1+ MB\n"
     ]
    }
   ],
   "source": [
    "combined_16 = pd.concat([sept16, oct16, nov16, dec16], ignore_index=True)\n",
    "\n",
    "combined_16.to_csv(r'C:\\Users\\aisar\\OneDrive\\Documents\\ELECTROLUX\\PROCESSED-DATA\\COMBINED\\SEPT-DEC\\merged_dec_Q16.csv', float_format='%.0f', index=False)\n",
    "combined_16.info()"
   ]
  },
  {
   "cell_type": "code",
   "execution_count": 34,
   "metadata": {},
   "outputs": [
    {
     "name": "stdout",
     "output_type": "stream",
     "text": [
      "<class 'pandas.core.frame.DataFrame'>\n",
      "RangeIndex: 1160042 entries, 0 to 1160041\n",
      "Data columns (total 5 columns):\n",
      " #   Column                  Non-Null Count    Dtype \n",
      "---  ------                  --------------    ----- \n",
      " 0   Response ID             1160042 non-null  int64 \n",
      " 1   Offline_source          1160042 non-null  object\n",
      " 2   Offline_source_cleaned  1160042 non-null  object\n",
      " 3   Y/N                     1160042 non-null  int64 \n",
      " 4   Brand                   1160042 non-null  object\n",
      "dtypes: int64(2), object(3)\n",
      "memory usage: 44.3+ MB\n"
     ]
    }
   ],
   "source": [
    "combined_17 = pd.concat([sept17, oct17, nov17, dec17], ignore_index=True)\n",
    "\n",
    "combined_17.to_csv(r'C:\\Users\\aisar\\OneDrive\\Documents\\ELECTROLUX\\PROCESSED-DATA\\COMBINED\\SEPT-DEC\\merged_dec_Q17.csv', float_format='%.0f', index=False)\n",
    "combined_17.info()"
   ]
  },
  {
   "cell_type": "code",
   "execution_count": 35,
   "metadata": {},
   "outputs": [
    {
     "name": "stdout",
     "output_type": "stream",
     "text": [
      "<class 'pandas.core.frame.DataFrame'>\n",
      "RangeIndex: 2400092 entries, 0 to 2400091\n",
      "Data columns (total 6 columns):\n",
      " #   Column                    Dtype \n",
      "---  ------                    ----- \n",
      " 0   Response ID               int64 \n",
      " 1   Product_Category          object\n",
      " 2   Product_Category_cleaned  object\n",
      " 3   Seen or Heard Y/N         int64 \n",
      " 4   Brand                     object\n",
      " 5   Experience_Area           object\n",
      "dtypes: int64(2), object(4)\n",
      "memory usage: 109.9+ MB\n"
     ]
    }
   ],
   "source": [
    "combined_18 = pd.concat([sept18, oct18, nov18, dec18], ignore_index=True)\n",
    "\n",
    "combined_18.to_csv(r'C:\\Users\\aisar\\OneDrive\\Documents\\ELECTROLUX\\PROCESSED-DATA\\COMBINED\\SEPT-DEC\\merged_dec_Q18.csv', float_format='%.0f', index=False)\n",
    "combined_18.info()"
   ]
  },
  {
   "cell_type": "code",
   "execution_count": 36,
   "metadata": {},
   "outputs": [
    {
     "name": "stdout",
     "output_type": "stream",
     "text": [
      "<class 'pandas.core.frame.DataFrame'>\n",
      "RangeIndex: 290748 entries, 0 to 290747\n",
      "Data columns (total 4 columns):\n",
      " #   Column                 Non-Null Count   Dtype \n",
      "---  ------                 --------------   ----- \n",
      " 0   Response ID            290748 non-null  int64 \n",
      " 1   Appliances             290748 non-null  object\n",
      " 2   Appliances_cleaned     290748 non-null  object\n",
      " 3   Bought_last12Mths Y/N  290748 non-null  int64 \n",
      "dtypes: int64(2), object(2)\n",
      "memory usage: 8.9+ MB\n"
     ]
    }
   ],
   "source": [
    "combined_19 = pd.concat([sept19, oct19, nov19, dec19], ignore_index=True)\n",
    "\n",
    "combined_19.to_csv(r'C:\\Users\\aisar\\OneDrive\\Documents\\ELECTROLUX\\PROCESSED-DATA\\COMBINED\\SEPT-DEC\\merged_dec_Q19.csv', float_format='%.0f', index=False)\n",
    "combined_19.info()"
   ]
  },
  {
   "cell_type": "code",
   "execution_count": 37,
   "metadata": {},
   "outputs": [
    {
     "name": "stdout",
     "output_type": "stream",
     "text": [
      "<class 'pandas.core.frame.DataFrame'>\n",
      "RangeIndex: 290748 entries, 0 to 290747\n",
      "Data columns (total 4 columns):\n",
      " #   Column                      Non-Null Count   Dtype \n",
      "---  ------                      --------------   ----- \n",
      " 0   Response ID                 290748 non-null  int64 \n",
      " 1   Appliances                  290748 non-null  object\n",
      " 2   Appliances_cleaned          290748 non-null  object\n",
      " 3   IntendtoBuy_next12Mths Y/N  290748 non-null  int64 \n",
      "dtypes: int64(2), object(2)\n",
      "memory usage: 8.9+ MB\n"
     ]
    }
   ],
   "source": [
    "combined_20 = pd.concat([sept20, oct20, nov20, dec20], ignore_index=True)\n",
    "\n",
    "combined_20.to_csv(r'C:\\Users\\aisar\\OneDrive\\Documents\\ELECTROLUX\\PROCESSED-DATA\\COMBINED\\SEPT-DEC\\merged_dec_Q20.csv', float_format='%.0f', index=False)\n",
    "combined_20.info()"
   ]
  },
  {
   "cell_type": "code",
   "execution_count": null,
   "metadata": {},
   "outputs": [
    {
     "name": "stdout",
     "output_type": "stream",
     "text": [
      "<class 'pandas.core.frame.DataFrame'>\n",
      "RangeIndex: 7091 entries, 0 to 7090\n",
      "Data columns (total 38 columns):\n",
      " #   Column                                                                                                                                Non-Null Count  Dtype  \n",
      "---  ------                                                                                                                                --------------  -----  \n",
      " 0   Response ID                                                                                                                           7091 non-null   int64  \n",
      " 1   Date Submitted                                                                                                                        7091 non-null   object \n",
      " 2   Status                                                                                                                                7091 non-null   object \n",
      " 3   IP Address                                                                                                                            7091 non-null   object \n",
      " 4   Longitude                                                                                                                             7091 non-null   int64  \n",
      " 5   Latitude                                                                                                                              7091 non-null   int64  \n",
      " 6   Country                                                                                                                               7091 non-null   object \n",
      " 7   City                                                                                                                                  5972 non-null   object \n",
      " 8   State/Region                                                                                                                          6024 non-null   object \n",
      " 9   Postal                                                                                                                                5218 non-null   object \n",
      " 10  URL Variable: bcid                                                                                                                    3488 non-null   object \n",
      " 11  URL Variable: brid                                                                                                                    3488 non-null   object \n",
      " 12  URL Variable: country                                                                                                                 3494 non-null   object \n",
      " 13  URL Variable: language                                                                                                                3494 non-null   object \n",
      " 14  language                                                                                                                              7091 non-null   int64  \n",
      " 15  BRID                                                                                                                                  7079 non-null   object \n",
      " 16  BCID                                                                                                                                  7079 non-null   object \n",
      " 17  TEST MODE (ON/OFF)                                                                                                                    7091 non-null   object \n",
      " 18  Termination page                                                                                                                      7091 non-null   object \n",
      " 19  Month                                                                                                                                 7091 non-null   int64  \n",
      " 20  Week                                                                                                                                  7091 non-null   int64  \n",
      " 21  Home construction or remodeling:Do you or does any member of your household work in any of these occupations? Select all that apply.  413 non-null    float64\n",
      " 22  Financial Services:Do you or does any member of your household work in any of these occupations? Select all that apply.               341 non-null    float64\n",
      " 23  None of these:Do you or does any member of your household work in any of these occupations? Select all that apply.                    6380 non-null   float64\n",
      " 24  New Hidden Value                                                                                                                      7091 non-null   object \n",
      " 25  Copy of New Hidden Value                                                                                                              7091 non-null   object \n",
      " 26  Which country are you currently residing in?                                                                                          7091 non-null   int64  \n",
      " 27  Which_region/city_do_you_live_in?                                                                                                     3494 non-null   object \n",
      " 28  Which_of_the_following_best_describes_the_area_in_which_you_live?                                                                     7091 non-null   object \n",
      " 29  Gender                                                                                                                                7091 non-null   object \n",
      " 30  Age                                                                                                                                   7091 non-null   int64  \n",
      " 31  Age_Range                                                                                                                             3494 non-null   object \n",
      " 32  Range_household_income                                                                                                                7012 non-null   object \n",
      " 33  highest level of education you have completed?                                                                                        7091 non-null   object \n",
      " 34  best applies to the home you live in?                                                                                                 7091 non-null   object \n",
      " 35  Decision maker                                                                                                                        7091 non-null   object \n",
      " 36  Region                                                                                                                                3597 non-null   object \n",
      " 37  Age Range                                                                                                                             3597 non-null   object \n",
      "dtypes: float64(3), int64(8), object(27)\n",
      "memory usage: 2.1+ MB\n"
     ]
    }
   ],
   "source": [
    "# combined_septoct_user_profile = pd.concat([sept_userprofile, oct_userprofile], ignore_index=True)\n",
    "\n",
    "# combined_septoct_user_profile.to_csv(r'C:\\Users\\aisar\\OneDrive\\Documents\\ELECTROLUX\\PROCESSED-DATA\\COMBINED\\SEPT-OCT\\merged_sept_oct_user_profile.csv', float_format='%.0f', index=False)\n",
    "\n",
    "# combined_septoct_user_profile.info()"
   ]
  },
  {
   "cell_type": "markdown",
   "metadata": {},
   "source": [
    "************** Q14, q18,need some major rechecking ************ q15, q20 *********"
   ]
  },
  {
   "cell_type": "code",
   "execution_count": null,
   "metadata": {},
   "outputs": [
    {
     "ename": "UnicodeDecodeError",
     "evalue": "'utf-8' codec can't decode byte 0x80 in position 1037: invalid start byte",
     "output_type": "error",
     "traceback": [
      "\u001b[1;31m---------------------------------------------------------------------------\u001b[0m",
      "\u001b[1;31mUnicodeDecodeError\u001b[0m                        Traceback (most recent call last)",
      "Cell \u001b[1;32mIn[41], line 9\u001b[0m\n\u001b[0;32m      6\u001b[0m \u001b[38;5;28;01mimport\u001b[39;00m \u001b[38;5;21;01mpandas\u001b[39;00m \u001b[38;5;28;01mas\u001b[39;00m \u001b[38;5;21;01mpd\u001b[39;00m\n\u001b[0;32m      8\u001b[0m \u001b[38;5;66;03m# Load the CSV file and display its info\u001b[39;00m\n\u001b[1;32m----> 9\u001b[0m df \u001b[38;5;241m=\u001b[39m \u001b[43mpd\u001b[49m\u001b[38;5;241;43m.\u001b[39;49m\u001b[43mread_csv\u001b[49m\u001b[43m(\u001b[49m\u001b[38;5;124;43mr\u001b[39;49m\u001b[38;5;124;43m'\u001b[39;49m\u001b[38;5;124;43mC:\u001b[39;49m\u001b[38;5;124;43m\\\u001b[39;49m\u001b[38;5;124;43mUsers\u001b[39;49m\u001b[38;5;124;43m\\\u001b[39;49m\u001b[38;5;124;43maisar\u001b[39;49m\u001b[38;5;124;43m\\\u001b[39;49m\u001b[38;5;124;43mOneDrive\u001b[39;49m\u001b[38;5;124;43m\\\u001b[39;49m\u001b[38;5;124;43mDocuments\u001b[39;49m\u001b[38;5;124;43m\\\u001b[39;49m\u001b[38;5;124;43mELECTROLUX\u001b[39;49m\u001b[38;5;124;43m\\\u001b[39;49m\u001b[38;5;124;43mPROCESSED-DATA\u001b[39;49m\u001b[38;5;124;43m\\\u001b[39;49m\u001b[38;5;124;43mCOMBINED\u001b[39;49m\u001b[38;5;124;43m\\\u001b[39;49m\u001b[38;5;124;43mSEPT-DEC\u001b[39;49m\u001b[38;5;124;43m\\\u001b[39;49m\u001b[38;5;124;43mmerged_sept_dec_user_profile.csv\u001b[39;49m\u001b[38;5;124;43m'\u001b[39;49m\u001b[43m)\u001b[49m\n\u001b[0;32m     10\u001b[0m \u001b[38;5;66;03m# C:\\Users\\aisar\\OneDrive\\Documents\\ELECTROLUX\\PROCESSED-DATA\\COMBINED\\SEPT-DEC\u001b[39;00m\n\u001b[0;32m     11\u001b[0m df\u001b[38;5;241m.\u001b[39minfo()\n",
      "File \u001b[1;32m~\\AppData\\Roaming\\Python\\Python313\\site-packages\\pandas\\io\\parsers\\readers.py:1026\u001b[0m, in \u001b[0;36mread_csv\u001b[1;34m(filepath_or_buffer, sep, delimiter, header, names, index_col, usecols, dtype, engine, converters, true_values, false_values, skipinitialspace, skiprows, skipfooter, nrows, na_values, keep_default_na, na_filter, verbose, skip_blank_lines, parse_dates, infer_datetime_format, keep_date_col, date_parser, date_format, dayfirst, cache_dates, iterator, chunksize, compression, thousands, decimal, lineterminator, quotechar, quoting, doublequote, escapechar, comment, encoding, encoding_errors, dialect, on_bad_lines, delim_whitespace, low_memory, memory_map, float_precision, storage_options, dtype_backend)\u001b[0m\n\u001b[0;32m   1013\u001b[0m kwds_defaults \u001b[38;5;241m=\u001b[39m _refine_defaults_read(\n\u001b[0;32m   1014\u001b[0m     dialect,\n\u001b[0;32m   1015\u001b[0m     delimiter,\n\u001b[1;32m   (...)\u001b[0m\n\u001b[0;32m   1022\u001b[0m     dtype_backend\u001b[38;5;241m=\u001b[39mdtype_backend,\n\u001b[0;32m   1023\u001b[0m )\n\u001b[0;32m   1024\u001b[0m kwds\u001b[38;5;241m.\u001b[39mupdate(kwds_defaults)\n\u001b[1;32m-> 1026\u001b[0m \u001b[38;5;28;01mreturn\u001b[39;00m \u001b[43m_read\u001b[49m\u001b[43m(\u001b[49m\u001b[43mfilepath_or_buffer\u001b[49m\u001b[43m,\u001b[49m\u001b[43m \u001b[49m\u001b[43mkwds\u001b[49m\u001b[43m)\u001b[49m\n",
      "File \u001b[1;32m~\\AppData\\Roaming\\Python\\Python313\\site-packages\\pandas\\io\\parsers\\readers.py:620\u001b[0m, in \u001b[0;36m_read\u001b[1;34m(filepath_or_buffer, kwds)\u001b[0m\n\u001b[0;32m    617\u001b[0m _validate_names(kwds\u001b[38;5;241m.\u001b[39mget(\u001b[38;5;124m\"\u001b[39m\u001b[38;5;124mnames\u001b[39m\u001b[38;5;124m\"\u001b[39m, \u001b[38;5;28;01mNone\u001b[39;00m))\n\u001b[0;32m    619\u001b[0m \u001b[38;5;66;03m# Create the parser.\u001b[39;00m\n\u001b[1;32m--> 620\u001b[0m parser \u001b[38;5;241m=\u001b[39m \u001b[43mTextFileReader\u001b[49m\u001b[43m(\u001b[49m\u001b[43mfilepath_or_buffer\u001b[49m\u001b[43m,\u001b[49m\u001b[43m \u001b[49m\u001b[38;5;241;43m*\u001b[39;49m\u001b[38;5;241;43m*\u001b[39;49m\u001b[43mkwds\u001b[49m\u001b[43m)\u001b[49m\n\u001b[0;32m    622\u001b[0m \u001b[38;5;28;01mif\u001b[39;00m chunksize \u001b[38;5;129;01mor\u001b[39;00m iterator:\n\u001b[0;32m    623\u001b[0m     \u001b[38;5;28;01mreturn\u001b[39;00m parser\n",
      "File \u001b[1;32m~\\AppData\\Roaming\\Python\\Python313\\site-packages\\pandas\\io\\parsers\\readers.py:1620\u001b[0m, in \u001b[0;36mTextFileReader.__init__\u001b[1;34m(self, f, engine, **kwds)\u001b[0m\n\u001b[0;32m   1617\u001b[0m     \u001b[38;5;28mself\u001b[39m\u001b[38;5;241m.\u001b[39moptions[\u001b[38;5;124m\"\u001b[39m\u001b[38;5;124mhas_index_names\u001b[39m\u001b[38;5;124m\"\u001b[39m] \u001b[38;5;241m=\u001b[39m kwds[\u001b[38;5;124m\"\u001b[39m\u001b[38;5;124mhas_index_names\u001b[39m\u001b[38;5;124m\"\u001b[39m]\n\u001b[0;32m   1619\u001b[0m \u001b[38;5;28mself\u001b[39m\u001b[38;5;241m.\u001b[39mhandles: IOHandles \u001b[38;5;241m|\u001b[39m \u001b[38;5;28;01mNone\u001b[39;00m \u001b[38;5;241m=\u001b[39m \u001b[38;5;28;01mNone\u001b[39;00m\n\u001b[1;32m-> 1620\u001b[0m \u001b[38;5;28mself\u001b[39m\u001b[38;5;241m.\u001b[39m_engine \u001b[38;5;241m=\u001b[39m \u001b[38;5;28;43mself\u001b[39;49m\u001b[38;5;241;43m.\u001b[39;49m\u001b[43m_make_engine\u001b[49m\u001b[43m(\u001b[49m\u001b[43mf\u001b[49m\u001b[43m,\u001b[49m\u001b[43m \u001b[49m\u001b[38;5;28;43mself\u001b[39;49m\u001b[38;5;241;43m.\u001b[39;49m\u001b[43mengine\u001b[49m\u001b[43m)\u001b[49m\n",
      "File \u001b[1;32m~\\AppData\\Roaming\\Python\\Python313\\site-packages\\pandas\\io\\parsers\\readers.py:1898\u001b[0m, in \u001b[0;36mTextFileReader._make_engine\u001b[1;34m(self, f, engine)\u001b[0m\n\u001b[0;32m   1895\u001b[0m     \u001b[38;5;28;01mraise\u001b[39;00m \u001b[38;5;167;01mValueError\u001b[39;00m(msg)\n\u001b[0;32m   1897\u001b[0m \u001b[38;5;28;01mtry\u001b[39;00m:\n\u001b[1;32m-> 1898\u001b[0m     \u001b[38;5;28;01mreturn\u001b[39;00m \u001b[43mmapping\u001b[49m\u001b[43m[\u001b[49m\u001b[43mengine\u001b[49m\u001b[43m]\u001b[49m\u001b[43m(\u001b[49m\u001b[43mf\u001b[49m\u001b[43m,\u001b[49m\u001b[43m \u001b[49m\u001b[38;5;241;43m*\u001b[39;49m\u001b[38;5;241;43m*\u001b[39;49m\u001b[38;5;28;43mself\u001b[39;49m\u001b[38;5;241;43m.\u001b[39;49m\u001b[43moptions\u001b[49m\u001b[43m)\u001b[49m\n\u001b[0;32m   1899\u001b[0m \u001b[38;5;28;01mexcept\u001b[39;00m \u001b[38;5;167;01mException\u001b[39;00m:\n\u001b[0;32m   1900\u001b[0m     \u001b[38;5;28;01mif\u001b[39;00m \u001b[38;5;28mself\u001b[39m\u001b[38;5;241m.\u001b[39mhandles \u001b[38;5;129;01mis\u001b[39;00m \u001b[38;5;129;01mnot\u001b[39;00m \u001b[38;5;28;01mNone\u001b[39;00m:\n",
      "File \u001b[1;32m~\\AppData\\Roaming\\Python\\Python313\\site-packages\\pandas\\io\\parsers\\c_parser_wrapper.py:93\u001b[0m, in \u001b[0;36mCParserWrapper.__init__\u001b[1;34m(self, src, **kwds)\u001b[0m\n\u001b[0;32m     90\u001b[0m \u001b[38;5;28;01mif\u001b[39;00m kwds[\u001b[38;5;124m\"\u001b[39m\u001b[38;5;124mdtype_backend\u001b[39m\u001b[38;5;124m\"\u001b[39m] \u001b[38;5;241m==\u001b[39m \u001b[38;5;124m\"\u001b[39m\u001b[38;5;124mpyarrow\u001b[39m\u001b[38;5;124m\"\u001b[39m:\n\u001b[0;32m     91\u001b[0m     \u001b[38;5;66;03m# Fail here loudly instead of in cython after reading\u001b[39;00m\n\u001b[0;32m     92\u001b[0m     import_optional_dependency(\u001b[38;5;124m\"\u001b[39m\u001b[38;5;124mpyarrow\u001b[39m\u001b[38;5;124m\"\u001b[39m)\n\u001b[1;32m---> 93\u001b[0m \u001b[38;5;28mself\u001b[39m\u001b[38;5;241m.\u001b[39m_reader \u001b[38;5;241m=\u001b[39m \u001b[43mparsers\u001b[49m\u001b[38;5;241;43m.\u001b[39;49m\u001b[43mTextReader\u001b[49m\u001b[43m(\u001b[49m\u001b[43msrc\u001b[49m\u001b[43m,\u001b[49m\u001b[43m \u001b[49m\u001b[38;5;241;43m*\u001b[39;49m\u001b[38;5;241;43m*\u001b[39;49m\u001b[43mkwds\u001b[49m\u001b[43m)\u001b[49m\n\u001b[0;32m     95\u001b[0m \u001b[38;5;28mself\u001b[39m\u001b[38;5;241m.\u001b[39munnamed_cols \u001b[38;5;241m=\u001b[39m \u001b[38;5;28mself\u001b[39m\u001b[38;5;241m.\u001b[39m_reader\u001b[38;5;241m.\u001b[39munnamed_cols\n\u001b[0;32m     97\u001b[0m \u001b[38;5;66;03m# error: Cannot determine type of 'names'\u001b[39;00m\n",
      "File \u001b[1;32mparsers.pyx:574\u001b[0m, in \u001b[0;36mpandas._libs.parsers.TextReader.__cinit__\u001b[1;34m()\u001b[0m\n",
      "File \u001b[1;32mparsers.pyx:663\u001b[0m, in \u001b[0;36mpandas._libs.parsers.TextReader._get_header\u001b[1;34m()\u001b[0m\n",
      "File \u001b[1;32mparsers.pyx:874\u001b[0m, in \u001b[0;36mpandas._libs.parsers.TextReader._tokenize_rows\u001b[1;34m()\u001b[0m\n",
      "File \u001b[1;32mparsers.pyx:891\u001b[0m, in \u001b[0;36mpandas._libs.parsers.TextReader._check_tokenize_status\u001b[1;34m()\u001b[0m\n",
      "File \u001b[1;32mparsers.pyx:2053\u001b[0m, in \u001b[0;36mpandas._libs.parsers.raise_parser_error\u001b[1;34m()\u001b[0m\n",
      "File \u001b[1;32m<frozen codecs>:325\u001b[0m, in \u001b[0;36mdecode\u001b[1;34m(self, input, final)\u001b[0m\n",
      "\u001b[1;31mUnicodeDecodeError\u001b[0m: 'utf-8' codec can't decode byte 0x80 in position 1037: invalid start byte"
     ]
    }
   ],
   "source": [
    "# df = pd.read_csv('merged_sept_dec_user_profile.csv')\n",
    "\n",
    "# df = pd.read_csv(r'C:\\Users\\aisar\\OneDrive\\Documents\\ELECTROLUX\\PROCESSED-DATA\\COMBINED\\merged_sept_dec_user_profile.csv')\n",
    "# df.info()\n",
    "\n",
    "import pandas as pd\n",
    "\n",
    "# Load the CSV file and display its info\n",
    "# df = pd.read_csv(r'C:\\Users\\aisar\\OneDrive\\Documents\\ELECTROLUX\\PROCESSED-DATA\\COMBINED\\SEPT-DEC\\merged_sept_dec_user_profile.csv')\n",
    "# C:\\Users\\aisar\\OneDrive\\Documents\\ELECTROLUX\\PROCESSED-DATA\\COMBINED\\SEPT-DEC\n",
    "df.info()\n"
   ]
  },
  {
   "cell_type": "code",
   "execution_count": 42,
   "metadata": {},
   "outputs": [
    {
     "name": "stdout",
     "output_type": "stream",
     "text": [
      "<class 'pandas.core.frame.DataFrame'>\n",
      "RangeIndex: 14298 entries, 0 to 14297\n",
      "Data columns (total 32 columns):\n",
      " #   Column                                                                                                                                Non-Null Count  Dtype  \n",
      "---  ------                                                                                                                                --------------  -----  \n",
      " 0   Response ID                                                                                                                           14298 non-null  int64  \n",
      " 1   Date Submitted                                                                                                                        14298 non-null  object \n",
      " 2   Status                                                                                                                                14298 non-null  object \n",
      " 3   IP Address                                                                                                                            14298 non-null  object \n",
      " 4   Longitude                                                                                                                             14297 non-null  float64\n",
      " 5   Latitude                                                                                                                              14297 non-null  float64\n",
      " 6   Country                                                                                                                               14297 non-null  object \n",
      " 7   City                                                                                                                                  12006 non-null  object \n",
      " 8   State/Region                                                                                                                          12106 non-null  object \n",
      " 9   Postal                                                                                                                                10454 non-null  object \n",
      " 10  language                                                                                                                              14298 non-null  int64  \n",
      " 11  BRID                                                                                                                                  14286 non-null  object \n",
      " 12  BCID                                                                                                                                  14286 non-null  object \n",
      " 13  TEST MODE (ON/OFF)                                                                                                                    14298 non-null  object \n",
      " 14  Termination page                                                                                                                      14298 non-null  object \n",
      " 15  Month                                                                                                                                 14298 non-null  int64  \n",
      " 16  Week                                                                                                                                  14298 non-null  int64  \n",
      " 17  Home construction or remodeling:Do you or does any member of your household work in any of these occupations? Select all that apply.  851 non-null    float64\n",
      " 18  Financial Services:Do you or does any member of your household work in any of these occupations? Select all that apply.               692 non-null    float64\n",
      " 19  None of these:Do you or does any member of your household work in any of these occupations? Select all that apply.                    12833 non-null  float64\n",
      " 20  New Hidden Value                                                                                                                      14298 non-null  object \n",
      " 21  Copy of New Hidden Value                                                                                                              14298 non-null  object \n",
      " 22  Which country are you currently residing in?                                                                                          14298 non-null  int64  \n",
      " 23  Region                                                                                                                                14298 non-null  object \n",
      " 24  Which_of_the_following_best_describes_the_area_in_which_you_live?                                                                     14298 non-null  object \n",
      " 25  Gender                                                                                                                                14298 non-null  object \n",
      " 26  Age                                                                                                                                   14298 non-null  int64  \n",
      " 27  Age_Range                                                                                                                             14298 non-null  object \n",
      " 28  Range_household_income                                                                                                                14116 non-null  object \n",
      " 29  highest level of education you have completed?                                                                                        14298 non-null  object \n",
      " 30  best applies to the home you live in?                                                                                                 14298 non-null  object \n",
      " 31  Decision maker                                                                                                                        14298 non-null  object \n",
      "dtypes: float64(5), int64(6), object(21)\n",
      "memory usage: 3.5+ MB\n"
     ]
    }
   ],
   "source": [
    "import pandas as pd\n",
    "\n",
    "# Load the CSV file using an alternative encoding\n",
    "file_path = r'C:\\Users\\aisar\\OneDrive\\Documents\\ELECTROLUX\\PROCESSED-DATA\\COMBINED\\SEPT-DEC\\merged_sept_dec_user_profile.csv'\n",
    "\n",
    "try:\n",
    "    df = pd.read_csv(file_path, encoding='latin1')  # Common fallback encoding\n",
    "    df.info()\n",
    "except UnicodeDecodeError:\n",
    "    print(\"Unable to decode file. Please verify the file encoding.\")\n"
   ]
  },
  {
   "cell_type": "code",
   "execution_count": 43,
   "metadata": {},
   "outputs": [
    {
     "data": {
      "text/plain": [
       "Index(['Response ID', 'Date Submitted', 'Status', 'IP Address', 'Longitude',\n",
       "       'Latitude', 'Country', 'City', 'State/Region', 'Postal', 'language',\n",
       "       'BRID', 'BCID', 'TEST MODE (ON/OFF)', 'Termination page', 'Month',\n",
       "       'Week',\n",
       "       'Home construction or remodeling:Do you or does any member of your household work in any of these occupations? Select all that apply.',\n",
       "       'Financial Services:Do you or does any member of your household work in any of these occupations? Select all that apply.',\n",
       "       'None of these:Do you or does any member of your household work in any of these occupations? Select all that apply.',\n",
       "       'New Hidden Value', 'Copy of New Hidden Value',\n",
       "       'Which country are you currently residing in?', 'Region',\n",
       "       'Which_of_the_following_best_describes_the_area_in_which_you_live?',\n",
       "       'Gender', 'Age', 'Age_Range', 'Range_household_income',\n",
       "       'highest level of education you have completed?',\n",
       "       'best applies to the home you live in?', 'Decision maker'],\n",
       "      dtype='object')"
      ]
     },
     "execution_count": 43,
     "metadata": {},
     "output_type": "execute_result"
    }
   ],
   "source": [
    "df.columns"
   ]
  },
  {
   "cell_type": "code",
   "execution_count": 44,
   "metadata": {},
   "outputs": [
    {
     "name": "stdout",
     "output_type": "stream",
     "text": [
      "Range_household_income\n",
      "THB 30,001 - 50,000          553\n",
      " 30,000 -  44,999          518\n",
      "AUD 2,000 - 4,000            436\n",
      "VND 10,500,001-15,000,000    429\n",
      "VND 15,000,001-20,000,000    409\n",
      "                            ... \n",
      "160 000 CHF - 179 999 CHF     25\n",
      "Less than THB 15,000          25\n",
      "200 000 CHF - 219 999 CHF     24\n",
      "180 000 CHF - 199 999 CHF     23\n",
      "up to 999 z?                  20\n",
      "Name: count, Length: 86, dtype: int64\n"
     ]
    }
   ],
   "source": [
    "print(df['Range_household_income'].value_counts())"
   ]
  }
 ],
 "metadata": {
  "kernelspec": {
   "display_name": "Python 3",
   "language": "python",
   "name": "python3"
  },
  "language_info": {
   "codemirror_mode": {
    "name": "ipython",
    "version": 3
   },
   "file_extension": ".py",
   "mimetype": "text/x-python",
   "name": "python",
   "nbconvert_exporter": "python",
   "pygments_lexer": "ipython3",
   "version": "3.13.0"
  }
 },
 "nbformat": 4,
 "nbformat_minor": 2
}
