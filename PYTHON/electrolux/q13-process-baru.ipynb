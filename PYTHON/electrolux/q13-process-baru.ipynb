{
 "cells": [
  {
   "cell_type": "code",
   "execution_count": 1,
   "metadata": {},
   "outputs": [],
   "source": [
    "import pandas as pd\n",
    "import numpy as np\n",
    "import os\n",
    "import matplotlib.pyplot as plt\n",
    "\n",
    "import re  #regular expression"
   ]
  },
  {
   "cell_type": "code",
   "execution_count": 2,
   "metadata": {},
   "outputs": [],
   "source": [
    "sheets_to_load = ['Germany',\n",
    "                  'Italy',\n",
    "                  'Poland',\n",
    "                  'Switzerland',\n",
    "                  'Sweden',\n",
    "                  'Thailand',\n",
    "                  'UK',\n",
    "                  'Vietnam',\n",
    "                  'Australia']\n",
    "# selected_sheets = pd.read_excel(r'C:\\Users\\aisar\\OneDrive\\Documents\\ELECTROLUX\\Compilation-raw\\SEPTEMBER\\q13-compilation.xlsx', sheet_name=sheets_to_load)\n",
    "# selected_sheets = pd.read_excel(r'C:\\Users\\aisar\\OneDrive\\Documents\\ELECTROLUX\\Compilation-raw\\OCTOBER\\q13-compilation.xlsx', sheet_name=sheets_to_load)\n",
    "# selected_sheets = pd.read_excel(r'C:\\Users\\aisar\\OneDrive\\Documents\\ELECTROLUX\\Compilation-raw\\NOVEMBER\\q13-compilation.xlsx', sheet_name=sheets_to_load)\n",
    "selected_sheets = pd.read_excel(r'C:\\Users\\aisar\\OneDrive\\Documents\\ELECTROLUX\\Compilation-raw\\DECEMBER\\q13-compilation.xlsx', sheet_name=sheets_to_load)\n",
    "\n",
    "Germany = selected_sheets['Germany']\n",
    "Italy = selected_sheets['Italy']\n",
    "Poland = selected_sheets['Poland']\n",
    "Switzerland = selected_sheets['Switzerland']\n",
    "Sweden = selected_sheets['Sweden']\n",
    "Thailand = selected_sheets['Thailand']\n",
    "UK = selected_sheets['UK']\n",
    "Vietnam = selected_sheets['Vietnam']\n",
    "Australia = selected_sheets['Australia']"
   ]
  },
  {
   "cell_type": "markdown",
   "metadata": {},
   "source": [
    "### Germany"
   ]
  },
  {
   "cell_type": "code",
   "execution_count": 3,
   "metadata": {},
   "outputs": [
    {
     "name": "stdout",
     "output_type": "stream",
     "text": [
      "<class 'pandas.core.frame.DataFrame'>\n",
      "RangeIndex: 396 entries, 0 to 395\n",
      "Data columns (total 12 columns):\n",
      " #   Column                                                                                                                                                                                                                 Non-Null Count  Dtype  \n",
      "---  ------                                                                                                                                                                                                                 --------------  -----  \n",
      " 0   Response ID                                                                                                                                                                                                            396 non-null    int64  \n",
      " 1   <img src=\"//surveygizmolibrary.s3.amazonaws.com/library/642038/GM_Miele.png\" title=\"Miele\" style=\"width:130px;\" alt=\"GM_Miele.png\" />:GM - Which of these brands of domestic appliances are you aware of?              339 non-null    float64\n",
      " 2   <img src=\"//surveygizmolibrary.s3.amazonaws.com/library/642038/GM_Siemens.png\" title=\"Siemens\" style=\"width:130px;\" alt=\"GM_Siemens.png\" />:GM - Which of these brands of domestic appliances are you aware of?        339 non-null    float64\n",
      " 3   <img src=\"//surveygizmolibrary.s3.amazonaws.com/library/642038/GM_AEG.png\" title=\"AEG\" style=\"width:130px;\" alt=\"GM_AEG.png\" />:GM - Which of these brands of domestic appliances are you aware of?                    330 non-null    float64\n",
      " 4   <img src=\"//surveygizmolibrary.s3.amazonaws.com/library/642038/GM_Samsung.png\" title=\"Samsung\" style=\"width:130px;\" alt=\"GM_Samsung.png\" />:GM - Which of these brands of domestic appliances are you aware of?        321 non-null    float64\n",
      " 5   <img src=\"//surveygizmolibrary.s3.amazonaws.com/library/642038/GM_Bauknecht.png\" title=\"Bauknecht\" style=\"width:130px;\" alt=\"GM_Bauknecht.png\" />:GM - Which of these brands of domestic appliances are you aware of?  309 non-null    float64\n",
      " 6   <img src=\"//surveygizmolibrary.s3.amazonaws.com/library/642038/GM_Philips.png\" title=\"Philips\" style=\"width:130px;\" alt=\"GM_Philips.png\" />:GM - Which of these brands of domestic appliances are you aware of?        330 non-null    float64\n",
      " 7   <img src=\"//surveygizmolibrary.s3.amazonaws.com/library/642038/GM_LG.png\" title=\"LG\" style=\"width:130px;\" alt=\"GM_LG.png\" />:GM - Which of these brands of domestic appliances are you aware of?                       297 non-null    float64\n",
      " 8   <img src=\"//surveygizmolibrary.s3.amazonaws.com/library/642038/GM_Dyson.png\" title=\"Dyson\" style=\"width:130px;\" alt=\"GM_Dyson.png\" />:GM - Which of these brands of domestic appliances are you aware of?              297 non-null    float64\n",
      " 9   <img src=\"//surveygizmolibrary.s3.amazonaws.com/library/642038/GM_Neff.png\" title=\"Neff\" style=\"width:130px;\" alt=\"GM_Neff.png\" />:GM - Which of these brands of domestic appliances are you aware of?                 204 non-null    float64\n",
      " 10  <img src=\"//surveygizmolibrary.s3.amazonaws.com/library/642038/GM_Haier.png\" title=\"Haier\" style=\"width:130px;\" alt=\"GM_Haier.png\" />:GM - Which of these brands of domestic appliances are you aware of?              122 non-null    float64\n",
      " 11  <img src=\"//surveygizmolibrary.s3.amazonaws.com/library/642038/GM_Rowenta.png\" title=\"Rowenta\" style=\"width:130px;\" alt=\"GM_Rowenta.png\" />:GM - Which of these brands of domestic appliances are you aware of?        233 non-null    float64\n",
      "dtypes: float64(11), int64(1)\n",
      "memory usage: 37.3 KB\n"
     ]
    }
   ],
   "source": [
    "Germany.info()"
   ]
  },
  {
   "cell_type": "code",
   "execution_count": 4,
   "metadata": {},
   "outputs": [
    {
     "name": "stdout",
     "output_type": "stream",
     "text": [
      "   Response ID  Miele  Siemens  AEG  Samsung  Bauknecht  Phillips   LG  Dyson  \\\n",
      "0        78230    2.0      NaN  NaN      NaN        NaN       NaN  NaN    NaN   \n",
      "1        78263    2.0      3.0  4.0      NaN        6.0       NaN  NaN    9.0   \n",
      "2        78268    2.0      3.0  NaN      5.0        NaN       7.0  8.0    9.0   \n",
      "3        78278    2.0      3.0  4.0      5.0        6.0       7.0  NaN    9.0   \n",
      "4        78299    2.0      3.0  4.0      5.0        6.0       7.0  8.0    9.0   \n",
      "\n",
      "   Neff  Haier  Rowenta  \n",
      "0   NaN    NaN      NaN  \n",
      "1   NaN    NaN      NaN  \n",
      "2  10.0   11.0      NaN  \n",
      "3   NaN    NaN      NaN  \n",
      "4  10.0   11.0     12.0  \n"
     ]
    }
   ],
   "source": [
    "# Rename specific columns in the DataFrame\n",
    "Germany = Germany.rename(columns={\n",
    "    '<img src=\"//surveygizmolibrary.s3.amazonaws.com/library/642038/GM_Bosch.png\" title=\"Bosch\" style=\"width:130px;\" alt=\"GM_Bosch.png\" />:GM - Which of these brands of domestic appliances are you aware of?': 'Bosch',\n",
    "    '<img src=\"//surveygizmolibrary.s3.amazonaws.com/library/642038/GM_Miele.png\" title=\"Miele\" style=\"width:130px;\" alt=\"GM_Miele.png\" />:GM - Which of these brands of domestic appliances are you aware of?': 'Miele',\n",
    "    '<img src=\"//surveygizmolibrary.s3.amazonaws.com/library/642038/GM_Siemens.png\" title=\"Siemens\" style=\"width:130px;\" alt=\"GM_Siemens.png\" />:GM - Which of these brands of domestic appliances are you aware of?': 'Siemens',\n",
    "    '<img src=\"//surveygizmolibrary.s3.amazonaws.com/library/642038/GM_AEG.png\" title=\"AEG\" style=\"width:130px;\" alt=\"GM_AEG.png\" />:GM - Which of these brands of domestic appliances are you aware of?': 'AEG',\n",
    "    '<img src=\"//surveygizmolibrary.s3.amazonaws.com/library/642038/GM_Samsung.png\" title=\"Samsung\" style=\"width:130px;\" alt=\"GM_Samsung.png\" />:GM - Which of these brands of domestic appliances are you aware of?': 'Samsung',\n",
    "    '<img src=\"//surveygizmolibrary.s3.amazonaws.com/library/642038/GM_Bauknecht.png\" title=\"Bauknecht\" style=\"width:130px;\" alt=\"GM_Bauknecht.png\" />:GM - Which of these brands of domestic appliances are you aware of?': 'Bauknecht',\n",
    "    '<img src=\"//surveygizmolibrary.s3.amazonaws.com/library/642038/GM_Philips.png\" title=\"Philips\" style=\"width:130px;\" alt=\"GM_Philips.png\" />:GM - Which of these brands of domestic appliances are you aware of?': 'Phillips',\n",
    "    '<img src=\"//surveygizmolibrary.s3.amazonaws.com/library/642038/GM_LG.png\" title=\"LG\" style=\"width:130px;\" alt=\"GM_LG.png\" />:GM - Which of these brands of domestic appliances are you aware of?': 'LG',\n",
    "    '<img src=\"//surveygizmolibrary.s3.amazonaws.com/library/642038/GM_Dyson.png\" title=\"Dyson\" style=\"width:130px;\" alt=\"GM_Dyson.png\" />:GM - Which of these brands of domestic appliances are you aware of?': 'Dyson',\n",
    "    '<img src=\"//surveygizmolibrary.s3.amazonaws.com/library/642038/GM_Neff.png\" title=\"Neff\" style=\"width:130px;\" alt=\"GM_Neff.png\" />:GM - Which of these brands of domestic appliances are you aware of?': 'Neff',\n",
    "    '<img src=\"//surveygizmolibrary.s3.amazonaws.com/library/642038/GM_Haier.png\" title=\"Haier\" style=\"width:130px;\" alt=\"GM_Haier.png\" />:GM - Which of these brands of domestic appliances are you aware of?': 'Haier',\n",
    "    '<img src=\"//surveygizmolibrary.s3.amazonaws.com/library/642038/GM_Rowenta.png\" title=\"Rowenta\" style=\"width:130px;\" alt=\"GM_Rowenta.png\" />:GM - Which of these brands of domestic appliances are you aware of?': 'Rowenta'\n",
    "})\n",
    "\n",
    "print(Germany.head())"
   ]
  },
  {
   "cell_type": "code",
   "execution_count": 5,
   "metadata": {},
   "outputs": [
    {
     "name": "stdout",
     "output_type": "stream",
     "text": [
      "   Response ID  Brand  Aware Y/N\n",
      "0        78230  Miele        2.0\n",
      "1        78263  Miele        2.0\n",
      "2        78268  Miele        2.0\n",
      "3        78278  Miele        2.0\n",
      "4        78299  Miele        2.0\n"
     ]
    }
   ],
   "source": [
    "# Unpivot the DataFrame, renaming 'Variable' to 'Brand'\n",
    "germany_melted = Germany.melt(id_vars=['Response ID'], var_name='Brand', value_name='Aware Y/N')\n",
    "\n",
    "# Replace null values in the 'Aware Y/N' column with \"None of these\"\n",
    "# germany_melted['Aware Y/N'] = germany_melted['Aware Y/N'].fillna(\"None of these\")\n",
    "# germany_melted['Aware Y/N'] = australia_melted['Aware Y/N'].fillna(0).astype(int)\n",
    "\n",
    "print(germany_melted.head())"
   ]
  },
  {
   "cell_type": "code",
   "execution_count": 6,
   "metadata": {},
   "outputs": [
    {
     "name": "stdout",
     "output_type": "stream",
     "text": [
      "Aware Y/N\n",
      "2.0     339\n",
      "3.0     339\n",
      "4.0     330\n",
      "7.0     330\n",
      "5.0     321\n",
      "6.0     309\n",
      "8.0     297\n",
      "9.0     297\n",
      "12.0    233\n",
      "10.0    204\n",
      "11.0    122\n",
      "Name: count, dtype: int64\n"
     ]
    }
   ],
   "source": [
    "counts = germany_melted['Aware Y/N'].value_counts()\n",
    "print(counts)"
   ]
  },
  {
   "cell_type": "code",
   "execution_count": 7,
   "metadata": {},
   "outputs": [
    {
     "name": "stdout",
     "output_type": "stream",
     "text": [
      "Count of blank values in 'Aware Y/N': 1235\n"
     ]
    }
   ],
   "source": [
    "# Count blank (empty or NaN) values in 'Aware Y/N'\n",
    "blank_count = germany_melted[germany_melted['Aware Y/N'].isna() | (germany_melted['Aware Y/N'] == '')].shape[0]\n",
    "\n",
    "# Display the count of blank values\n",
    "print(\"Count of blank values in 'Aware Y/N':\", blank_count)"
   ]
  },
  {
   "cell_type": "markdown",
   "metadata": {},
   "source": [
    "### Italy"
   ]
  },
  {
   "cell_type": "code",
   "execution_count": 8,
   "metadata": {},
   "outputs": [
    {
     "name": "stdout",
     "output_type": "stream",
     "text": [
      "<class 'pandas.core.frame.DataFrame'>\n",
      "RangeIndex: 398 entries, 0 to 397\n",
      "Data columns (total 13 columns):\n",
      " #   Column                                                                                                                                                                                                                    Non-Null Count  Dtype  \n",
      "---  ------                                                                                                                                                                                                                    --------------  -----  \n",
      " 0   Response ID                                                                                                                                                                                                               398 non-null    int64  \n",
      " 1   <img src=\"//surveygizmolibrary.s3.amazonaws.com/library/642038/IT_Samsung.png\" title=\"Samsung\" style=\"width:130px;\" alt=\"IT_Samsung.png\" />:IT - Which of these brands of domestic appliances are you aware of?           349 non-null    float64\n",
      " 2   <img src=\"//surveygizmolibrary.s3.amazonaws.com/library/642038/IT_Bosch.png\" title=\"Bosch\" style=\"width:130px;\" alt=\"IT_Bosch.png\" />:IT - Which of these brands of domestic appliances are you aware of?                 315 non-null    float64\n",
      " 3   <img src=\"//surveygizmolibrary.s3.amazonaws.com/library/642038/IT_Whirlpool.png\" title=\"Whirlpool\" style=\"width:130px;\" alt=\"IT_Whirlpool.png\" />:IT - Which of these brands of domestic appliances are you aware of?     310 non-null    float64\n",
      " 4   <img src=\"//surveygizmolibrary.s3.amazonaws.com/library/642038/IT_LG.png\" title=\"LG\" style=\"width:130px;\" alt=\"IT_LG.png\" />:IT - Which of these brands of domestic appliances are you aware of?                          325 non-null    float64\n",
      " 5   <img src=\"//surveygizmolibrary.s3.amazonaws.com/library/642038/IT_Dyson.png\" title=\"Dyson\" style=\"width:130px;\" alt=\"IT_Dyson.png\" />:IT - Which of these brands of domestic appliances are you aware of?                 287 non-null    float64\n",
      " 6   <img src=\"//surveygizmolibrary.s3.amazonaws.com/library/642038/IT_Miele.png\" title=\"Miele\" style=\"width:130px;\" alt=\"IT_Miele.png\" />:IT - Which of these brands of domestic appliances are you aware of?                 279 non-null    float64\n",
      " 7   <img src=\"//surveygizmolibrary.s3.amazonaws.com/library/642038/IT_Electrolux.png\" title=\"Electrolux\" style=\"width:130px;\" alt=\"IT_Electrolux.png\" />:IT - Which of these brands of domestic appliances are you aware of?  275 non-null    float64\n",
      " 8   <img src=\"//surveygizmolibrary.s3.amazonaws.com/library/642038/IT_Hotpoint.png\" title=\"Hotpoint\" style=\"width:130px;\" alt=\"IT_Hotpoint.png\" />:IT - Which of these brands of domestic appliances are you aware of?        254 non-null    float64\n",
      " 9   <img src=\"//surveygizmolibrary.s3.amazonaws.com/library/642038/IT_Beko.png\" title=\"Beko\" style=\"width:130px;\" alt=\"IT_Beko.png\" />:IT - Which of these brands of domestic appliances are you aware of?                    249 non-null    float64\n",
      " 10  <img src=\"//surveygizmolibrary.s3.amazonaws.com/library/642038/IT_AEG.png\" title=\"AEG\" style=\"width:130px;\" alt=\"IT_AEG.png\" />:IT - Which of these brands of domestic appliances are you aware of?                       207 non-null    float64\n",
      " 11  <img src=\"//surveygizmolibrary.s3.amazonaws.com/library/642038/IT_Haier.png\" title=\"Haier\" style=\"width:130px;\" alt=\"IT_Haier.png\" />:IT - Which of these brands of domestic appliances are you aware of?                 172 non-null    float64\n",
      " 12  <img src=\"//surveygizmolibrary.s3.amazonaws.com/library/642038/IT_Siemens.png\" title=\"Siemens\" style=\"width:130px;\" alt=\"IT_Siemens.png\" />:IT - Which of these brands of domestic appliances are you aware of?           242 non-null    float64\n",
      "dtypes: float64(12), int64(1)\n",
      "memory usage: 40.6 KB\n"
     ]
    }
   ],
   "source": [
    "Italy.info()"
   ]
  },
  {
   "cell_type": "code",
   "execution_count": 9,
   "metadata": {},
   "outputs": [
    {
     "name": "stdout",
     "output_type": "stream",
     "text": [
      "   Response ID  Samsung  Bosch  Whirlpool   LG  Dyson  Miele  Electrolux  \\\n",
      "0        78233      1.0    2.0        3.0  4.0    5.0    6.0         7.0   \n",
      "1        78237      1.0    2.0        3.0  4.0    5.0    6.0         7.0   \n",
      "2        78242      NaN    2.0        3.0  4.0    5.0    NaN         7.0   \n",
      "3        78300      1.0    2.0        3.0  4.0    5.0    6.0         7.0   \n",
      "4        78315      1.0    2.0        3.0  NaN    5.0    NaN         7.0   \n",
      "\n",
      "   Hotpoint  Beko   AEG  Haier  Siemens  \n",
      "0       8.0   9.0  10.0   11.0     12.0  \n",
      "1       8.0   9.0  10.0   11.0     12.0  \n",
      "2       8.0   9.0   NaN    NaN      NaN  \n",
      "3       8.0   9.0  10.0   11.0     12.0  \n",
      "4       NaN   NaN   NaN    NaN      NaN  \n"
     ]
    }
   ],
   "source": [
    "# Rename specific columns in the DataFrame\n",
    "Italy = Italy.rename(columns={\n",
    "    '<img src=\"//surveygizmolibrary.s3.amazonaws.com/library/642038/IT_Samsung.png\" title=\"Samsung\" style=\"width:130px;\" alt=\"IT_Samsung.png\" />:IT - Which of these brands of domestic appliances are you aware of?': 'Samsung',\n",
    "    '<img src=\"//surveygizmolibrary.s3.amazonaws.com/library/642038/IT_Bosch.png\" title=\"Bosch\" style=\"width:130px;\" alt=\"IT_Bosch.png\" />:IT - Which of these brands of domestic appliances are you aware of?': 'Bosch',\n",
    "    '<img src=\"//surveygizmolibrary.s3.amazonaws.com/library/642038/IT_Whirlpool.png\" title=\"Whirlpool\" style=\"width:130px;\" alt=\"IT_Whirlpool.png\" />:IT - Which of these brands of domestic appliances are you aware of?': 'Whirlpool',\n",
    "    '<img src=\"//surveygizmolibrary.s3.amazonaws.com/library/642038/IT_LG.png\" title=\"LG\" style=\"width:130px;\" alt=\"IT_LG.png\" />:IT - Which of these brands of domestic appliances are you aware of?': 'LG',\n",
    "    '<img src=\"//surveygizmolibrary.s3.amazonaws.com/library/642038/IT_Dyson.png\" title=\"Dyson\" style=\"width:130px;\" alt=\"IT_Dyson.png\" />:IT - Which of these brands of domestic appliances are you aware of?': 'Dyson',\n",
    "    '<img src=\"//surveygizmolibrary.s3.amazonaws.com/library/642038/IT_Miele.png\" title=\"Miele\" style=\"width:130px;\" alt=\"IT_Miele.png\" />:IT - Which of these brands of domestic appliances are you aware of?': 'Miele',\n",
    "    '<img src=\"//surveygizmolibrary.s3.amazonaws.com/library/642038/IT_Electrolux.png\" title=\"Electrolux\" style=\"width:130px;\" alt=\"IT_Electrolux.png\" />:IT - Which of these brands of domestic appliances are you aware of?': 'Electrolux',\n",
    "    '<img src=\"//surveygizmolibrary.s3.amazonaws.com/library/642038/IT_Hotpoint.png\" title=\"Hotpoint\" style=\"width:130px;\" alt=\"IT_Hotpoint.png\" />:IT - Which of these brands of domestic appliances are you aware of?': 'Hotpoint',\n",
    "    '<img src=\"//surveygizmolibrary.s3.amazonaws.com/library/642038/IT_Beko.png\" title=\"Beko\" style=\"width:130px;\" alt=\"IT_Beko.png\" />:IT - Which of these brands of domestic appliances are you aware of?': 'Beko',\n",
    "    '<img src=\"//surveygizmolibrary.s3.amazonaws.com/library/642038/IT_AEG.png\" title=\"AEG\" style=\"width:130px;\" alt=\"IT_AEG.png\" />:IT - Which of these brands of domestic appliances are you aware of?': 'AEG',\n",
    "    '<img src=\"//surveygizmolibrary.s3.amazonaws.com/library/642038/IT_Haier.png\" title=\"Haier\" style=\"width:130px;\" alt=\"IT_Haier.png\" />:IT - Which of these brands of domestic appliances are you aware of?': 'Haier',\n",
    "    '<img src=\"//surveygizmolibrary.s3.amazonaws.com/library/642038/IT_Siemens.png\" title=\"Siemens\" style=\"width:130px;\" alt=\"IT_Siemens.png\" />:IT - Which of these brands of domestic appliances are you aware of?': 'Siemens'\n",
    "})\n",
    "\n",
    "print(Italy.head())"
   ]
  },
  {
   "cell_type": "code",
   "execution_count": 10,
   "metadata": {},
   "outputs": [
    {
     "name": "stdout",
     "output_type": "stream",
     "text": [
      "   Response ID    Brand  Aware Y/N\n",
      "0        78233  Samsung          1\n",
      "1        78237  Samsung          1\n",
      "2        78242  Samsung          0\n",
      "3        78300  Samsung          1\n",
      "4        78315  Samsung          1\n"
     ]
    }
   ],
   "source": [
    "# Unpivot the DataFrame, renaming 'Variable' to 'Brand'\n",
    "italy_melted = Italy.melt(id_vars=['Response ID'], var_name='Brand', value_name='Aware Y/N')\n",
    "\n",
    "# Replace null values in the 'Aware Y/N' column with \"None of these\"\n",
    "# italy_melted['Aware Y/N'] = italy_melted['Aware Y/N'].fillna(\"None of these\")\n",
    "italy_melted['Aware Y/N'] = italy_melted['Aware Y/N'].fillna(0).astype(int)\n",
    "\n",
    "print(italy_melted.head())"
   ]
  },
  {
   "cell_type": "code",
   "execution_count": 11,
   "metadata": {},
   "outputs": [
    {
     "name": "stdout",
     "output_type": "stream",
     "text": [
      "Aware Y/N\n",
      "0     1512\n",
      "1      349\n",
      "4      325\n",
      "2      315\n",
      "3      310\n",
      "5      287\n",
      "6      279\n",
      "7      275\n",
      "8      254\n",
      "9      249\n",
      "12     242\n",
      "10     207\n",
      "11     172\n",
      "Name: count, dtype: int64\n"
     ]
    }
   ],
   "source": [
    "appliances_value_counts = italy_melted['Aware Y/N'].value_counts()\n",
    "print(appliances_value_counts)"
   ]
  },
  {
   "cell_type": "markdown",
   "metadata": {},
   "source": [
    "### Poland"
   ]
  },
  {
   "cell_type": "code",
   "execution_count": 12,
   "metadata": {},
   "outputs": [
    {
     "name": "stdout",
     "output_type": "stream",
     "text": [
      "<class 'pandas.core.frame.DataFrame'>\n",
      "RangeIndex: 400 entries, 0 to 399\n",
      "Data columns (total 13 columns):\n",
      " #   Column                                                                                                                                                                                                                    Non-Null Count  Dtype  \n",
      "---  ------                                                                                                                                                                                                                    --------------  -----  \n",
      " 0   Response ID                                                                                                                                                                                                               400 non-null    int64  \n",
      " 1   <img src=\"//surveygizmolibrary.s3.amazonaws.com/library/642038/PO_Samsung.png\" title=\"Samsung\" style=\"width:130px;\" alt=\"PO_Samsung.png\" />:PO - Which of these brands of domestic appliances are you aware of?           328 non-null    float64\n",
      " 2   <img src=\"//surveygizmolibrary.s3.amazonaws.com/library/642038/PO_Bosch.png\" title=\"Bosch\" style=\"width:130px;\" alt=\"PO_Bosch.png\" />:PO - Which of these brands of domestic appliances are you aware of?                 320 non-null    float64\n",
      " 3   <img src=\"//surveygizmolibrary.s3.amazonaws.com/library/642038/PO_Electrolux.png\" title=\"Electrolux\" style=\"width:130px;\" alt=\"PO_Electrolux.png\" />:PO - Which of these brands of domestic appliances are you aware of?  297 non-null    float64\n",
      " 4   <img src=\"//surveygizmolibrary.s3.amazonaws.com/library/642038/PO_Beko.png\" title=\"Beko\" style=\"width:130px;\" alt=\"PO_Beko.png\" />:PO - Which of these brands of domestic appliances are you aware of?                    320 non-null    float64\n",
      " 5   <img src=\"//surveygizmolibrary.s3.amazonaws.com/library/642038/PO_Amica.png\" title=\"Amica\" style=\"width:130px;\" alt=\"PO_Amica.png\" />:PO - Which of these brands of domestic appliances are you aware of?                 329 non-null    float64\n",
      " 6   <img src=\"//surveygizmolibrary.s3.amazonaws.com/library/642038/PO_Philips.png\" title=\"Philips\" style=\"width:130px;\" alt=\"PO_Philips.png\" />:PO - Which of these brands of domestic appliances are you aware of?           305 non-null    float64\n",
      " 7   <img src=\"//surveygizmolibrary.s3.amazonaws.com/library/642038/PO_Whirlpool.png\" title=\"Whirlpool\" style=\"width:130px;\" alt=\"PO_Whirlpool.png\" />:PO - Which of these brands of domestic appliances are you aware of?     299 non-null    float64\n",
      " 8   <img src=\"//surveygizmolibrary.s3.amazonaws.com/library/642038/PO_LG.png\" title=\"LG\" style=\"width:130px;\" alt=\"PO_LG.png\" />:PO - Which of these brands of domestic appliances are you aware of?                          306 non-null    float64\n",
      " 9   <img src=\"//surveygizmolibrary.s3.amazonaws.com/library/642038/PO_Dyson.png\" title=\"Dyson\" style=\"width:130px;\" alt=\"PO_Dyson.png\" />:PO - Which of these brands of domestic appliances are you aware of?                 183 non-null    float64\n",
      " 10  <img src=\"//surveygizmolibrary.s3.amazonaws.com/library/642038/PO_Haier.png\" title=\"Haier\" style=\"width:130px;\" alt=\"PO_Haier.png\" />:PO - Which of these brands of domestic appliances are you aware of?                 133 non-null    float64\n",
      " 11  <img src=\"//surveygizmolibrary.s3.amazonaws.com/library/642038/PO_Miele.png\" title=\"Miele\" style=\"width:130px;\" alt=\"PO_Miele.png\" />:PO - Which of these brands of domestic appliances are you aware of?                 150 non-null    float64\n",
      " 12  <img src=\"//surveygizmolibrary.s3.amazonaws.com/library/642038/PO_AEG.png\" title=\"AEG\" style=\"width:130px;\" alt=\"PO_AEG.png\" />:PO - Which of these brands of domestic appliances are you aware of?                       123 non-null    float64\n",
      "dtypes: float64(12), int64(1)\n",
      "memory usage: 40.8 KB\n"
     ]
    }
   ],
   "source": [
    "Poland.info()"
   ]
  },
  {
   "cell_type": "code",
   "execution_count": 13,
   "metadata": {},
   "outputs": [
    {
     "name": "stdout",
     "output_type": "stream",
     "text": [
      "   Response ID  Samsung  Bosch  Electrolux  Beko  Amica  Phillips  Whirlpool  \\\n",
      "0        78295      1.0    2.0         3.0   4.0    5.0       6.0        NaN   \n",
      "1        78297      1.0    2.0         NaN   4.0    5.0       6.0        7.0   \n",
      "2        78309      1.0    NaN         NaN   NaN    NaN       NaN        NaN   \n",
      "3        78317      1.0    2.0         3.0   NaN    NaN       6.0        7.0   \n",
      "4        78344      1.0    2.0         3.0   4.0    5.0       6.0        7.0   \n",
      "\n",
      "    LG  Dyson  Haier  Miele   AEG  \n",
      "0  8.0    9.0   10.0   11.0  12.0  \n",
      "1  8.0    NaN    NaN    NaN   NaN  \n",
      "2  8.0    NaN    NaN    NaN   NaN  \n",
      "3  8.0    NaN    NaN    NaN   NaN  \n",
      "4  8.0    9.0   10.0   11.0  12.0  \n"
     ]
    }
   ],
   "source": [
    "# Rename specific columns in the DataFrame\n",
    "Poland = Poland.rename(columns={\n",
    "    '<img src=\"//surveygizmolibrary.s3.amazonaws.com/library/642038/PO_Samsung.png\" title=\"Samsung\" style=\"width:130px;\" alt=\"PO_Samsung.png\" />:PO - Which of these brands of domestic appliances are you aware of?': 'Samsung',\n",
    "    '<img src=\"//surveygizmolibrary.s3.amazonaws.com/library/642038/PO_Bosch.png\" title=\"Bosch\" style=\"width:130px;\" alt=\"PO_Bosch.png\" />:PO - Which of these brands of domestic appliances are you aware of?': 'Bosch',\n",
    "    '<img src=\"//surveygizmolibrary.s3.amazonaws.com/library/642038/PO_Electrolux.png\" title=\"Electrolux\" style=\"width:130px;\" alt=\"PO_Electrolux.png\" />:PO - Which of these brands of domestic appliances are you aware of?': 'Electrolux',\n",
    "    '<img src=\"//surveygizmolibrary.s3.amazonaws.com/library/642038/PO_Beko.png\" title=\"Beko\" style=\"width:130px;\" alt=\"PO_Beko.png\" />:PO - Which of these brands of domestic appliances are you aware of?': 'Beko',\n",
    "    '<img src=\"//surveygizmolibrary.s3.amazonaws.com/library/642038/PO_Amica.png\" title=\"Amica\" style=\"width:130px;\" alt=\"PO_Amica.png\" />:PO - Which of these brands of domestic appliances are you aware of?': 'Amica',\n",
    "    '<img src=\"//surveygizmolibrary.s3.amazonaws.com/library/642038/PO_Philips.png\" title=\"Philips\" style=\"width:130px;\" alt=\"PO_Philips.png\" />:PO - Which of these brands of domestic appliances are you aware of?': 'Phillips',\n",
    "    '<img src=\"//surveygizmolibrary.s3.amazonaws.com/library/642038/PO_Whirlpool.png\" title=\"Whirlpool\" style=\"width:130px;\" alt=\"PO_Whirlpool.png\" />:PO - Which of these brands of domestic appliances are you aware of?': 'Whirlpool',\n",
    "    '<img src=\"//surveygizmolibrary.s3.amazonaws.com/library/642038/PO_LG.png\" title=\"LG\" style=\"width:130px;\" alt=\"PO_LG.png\" />:PO - Which of these brands of domestic appliances are you aware of?': 'LG',\n",
    "    '<img src=\"//surveygizmolibrary.s3.amazonaws.com/library/642038/PO_Dyson.png\" title=\"Dyson\" style=\"width:130px;\" alt=\"PO_Dyson.png\" />:PO - Which of these brands of domestic appliances are you aware of?': 'Dyson',\n",
    "    '<img src=\"//surveygizmolibrary.s3.amazonaws.com/library/642038/PO_Haier.png\" title=\"Haier\" style=\"width:130px;\" alt=\"PO_Haier.png\" />:PO - Which of these brands of domestic appliances are you aware of?': 'Haier',\n",
    "    '<img src=\"//surveygizmolibrary.s3.amazonaws.com/library/642038/PO_Miele.png\" title=\"Miele\" style=\"width:130px;\" alt=\"PO_Miele.png\" />:PO - Which of these brands of domestic appliances are you aware of?': 'Miele',\n",
    "    '<img src=\"//surveygizmolibrary.s3.amazonaws.com/library/642038/PO_AEG.png\" title=\"AEG\" style=\"width:130px;\" alt=\"PO_AEG.png\" />:PO - Which of these brands of domestic appliances are you aware of?': 'AEG'\n",
    "})\n",
    "\n",
    "print(Poland.head())"
   ]
  },
  {
   "cell_type": "code",
   "execution_count": 14,
   "metadata": {},
   "outputs": [
    {
     "name": "stdout",
     "output_type": "stream",
     "text": [
      "   Response ID    Brand  Aware Y/N\n",
      "0        78295  Samsung          1\n",
      "1        78297  Samsung          1\n",
      "2        78309  Samsung          1\n",
      "3        78317  Samsung          1\n",
      "4        78344  Samsung          1\n"
     ]
    }
   ],
   "source": [
    "# Unpivot the DataFrame, renaming 'Variable' to 'Brand'\n",
    "poland_melted = Poland.melt(id_vars=['Response ID'], var_name='Brand', value_name='Aware Y/N')\n",
    "\n",
    "# Replace null values in the 'Aware Y/N' column with \"None of these\"\n",
    "# poland_melted['Aware Y/N'] = poland_melted['Aware Y/N'].fillna(\"None of these\")\n",
    "poland_melted['Aware Y/N'] = poland_melted['Aware Y/N'].fillna(0).astype(int)\n",
    "\n",
    "\n",
    "print(poland_melted.head())"
   ]
  },
  {
   "cell_type": "code",
   "execution_count": 15,
   "metadata": {},
   "outputs": [
    {
     "name": "stdout",
     "output_type": "stream",
     "text": [
      "Aware Y/N\n",
      "0     1707\n",
      "5      329\n",
      "1      328\n",
      "4      320\n",
      "2      320\n",
      "8      306\n",
      "6      305\n",
      "7      299\n",
      "3      297\n",
      "9      183\n",
      "11     150\n",
      "10     133\n",
      "12     123\n",
      "Name: count, dtype: int64\n"
     ]
    }
   ],
   "source": [
    "appliances_value_counts = poland_melted['Aware Y/N'].value_counts()\n",
    "print(appliances_value_counts)"
   ]
  },
  {
   "cell_type": "markdown",
   "metadata": {},
   "source": [
    "### Switzerland"
   ]
  },
  {
   "cell_type": "code",
   "execution_count": 16,
   "metadata": {},
   "outputs": [
    {
     "name": "stdout",
     "output_type": "stream",
     "text": [
      "<class 'pandas.core.frame.DataFrame'>\n",
      "RangeIndex: 398 entries, 0 to 397\n",
      "Data columns (total 13 columns):\n",
      " #   Column                                                                                                                                                                                                                    Non-Null Count  Dtype  \n",
      "---  ------                                                                                                                                                                                                                    --------------  -----  \n",
      " 0   Response ID                                                                                                                                                                                                               398 non-null    int64  \n",
      " 1   <img src=\"//surveygizmolibrary.s3.amazonaws.com/library/642038/SZ_VZug.png\" title=\"V Zug\" style=\"height:100px;\" alt=\"SZ_VZug.png\" />:SZ - Which of these brands of domestic appliances are you aware of?                  246 non-null    float64\n",
      " 2   <img src=\"//surveygizmolibrary.s3.amazonaws.com/library/642038/SZ_Electrolux.png\" title=\"Electrolux\" style=\"width:130px;\" alt=\"SZ_Electrolux.png\" />:SZ - Which of these brands of domestic appliances are you aware of?  262 non-null    float64\n",
      " 3   <img src=\"//surveygizmolibrary.s3.amazonaws.com/library/642038/SZ_Miele.png\" title=\"Electrolux\" style=\"width:130px;\" alt=\"SZ_Miele.png\" />:SZ - Which of these brands of domestic appliances are you aware of?            261 non-null    float64\n",
      " 4   <img src=\"//surveygizmolibrary.s3.amazonaws.com/library/642038/SZ_Dyson.png\" title=\"Dyson\" style=\"width:130px;\" alt=\"SZ_Dyson.png\" />:SZ - Which of these brands of domestic appliances are you aware of?                 245 non-null    float64\n",
      " 5   <img src=\"//surveygizmolibrary.s3.amazonaws.com/library/642038/SZ_Bosch.png\" title=\"Bosch\" style=\"width:130px;\" alt=\"SZ_Bosch.png\" />:SZ - Which of these brands of domestic appliances are you aware of?                 274 non-null    float64\n",
      " 6   <img src=\"//surveygizmolibrary.s3.amazonaws.com/library/642038/SZ_Samsung.png\" title=\"Samsung\" style=\"width:130px;\" alt=\"SZ_Samsung.png\" />:SZ - Which of these brands of domestic appliances are you aware of?           277 non-null    float64\n",
      " 7   <img src=\"//surveygizmolibrary.s3.amazonaws.com/library/642038/SZ_Siemens.png\" title=\"Siemens\" style=\"width:130px;\" alt=\"SZ_Siemens.png\" />:SZ - Which of these brands of domestic appliances are you aware of?           264 non-null    float64\n",
      " 8   <img src=\"//surveygizmolibrary.s3.amazonaws.com/library/642038/SZ_Philips.png\" title=\"Philips\" style=\"width:130px;\" alt=\"SZ_Philips.png\" />:SZ - Which of these brands of domestic appliances are you aware of?           257 non-null    float64\n",
      " 9   <img src=\"//surveygizmolibrary.s3.amazonaws.com/library/642038/SZ_Bauknecht.png\" title=\"Bauknecht\" style=\"width:130px;\" alt=\"SZ_Bauknecht.png\" />:SZ - Which of these brands of domestic appliances are you aware of?     187 non-null    float64\n",
      " 10  <img src=\"//surveygizmolibrary.s3.amazonaws.com/library/642038/SZ_AEG.png\" title=\"AEG\" style=\"width:130px;\" alt=\"SZ_AEG.png\" />:SZ - Which of these brands of domestic appliances are you aware of?                       178 non-null    float64\n",
      " 11  <img src=\"//surveygizmolibrary.s3.amazonaws.com/library/642038/SZ_Liebherr.png\" title=\"Liebherr\" style=\"width:130px;\" alt=\"SZ_Liebherr.png\" />:SZ - Which of these brands of domestic appliances are you aware of?        142 non-null    float64\n",
      " 12  <img src=\"//surveygizmolibrary.s3.amazonaws.com/library/642038/SZ_Schulthess.png\" title=\"Schulthess\" style=\"width:130px;\" alt=\"SZ_Schulthess.png\" />:SZ - Which of these brands of domestic appliances are you aware of?  147 non-null    float64\n",
      "dtypes: float64(12), int64(1)\n",
      "memory usage: 40.6 KB\n"
     ]
    }
   ],
   "source": [
    "Switzerland.info()"
   ]
  },
  {
   "cell_type": "code",
   "execution_count": 17,
   "metadata": {},
   "outputs": [
    {
     "name": "stdout",
     "output_type": "stream",
     "text": [
      "   Response ID  V Zug  Electrolux  Miele  Dyson  Bosch  Samsung  Siemens  \\\n",
      "0        78375    1.0         2.0    3.0    4.0    5.0      6.0      NaN   \n",
      "1        78387    1.0         2.0    3.0    NaN    5.0      6.0      7.0   \n",
      "2        78581    1.0         2.0    3.0    4.0    5.0      NaN      7.0   \n",
      "3        78735    NaN         2.0    NaN    4.0    5.0      6.0      7.0   \n",
      "4        78849    NaN         2.0    3.0    4.0    5.0      6.0      7.0   \n",
      "\n",
      "   Phillips  Bauknecht   AEG  Liebherr  Schulthess  \n",
      "0       8.0        9.0  10.0      11.0        12.0  \n",
      "1       8.0        9.0   NaN       NaN         NaN  \n",
      "2       8.0        9.0   NaN      11.0         NaN  \n",
      "3       8.0        NaN   NaN       NaN         NaN  \n",
      "4       8.0        NaN  10.0       NaN         NaN  \n"
     ]
    }
   ],
   "source": [
    "# Rename specific columns in the DataFrame\n",
    "Switzerland = Switzerland.rename(columns={\n",
    "    '<img src=\"//surveygizmolibrary.s3.amazonaws.com/library/642038/SZ_VZug.png\" title=\"V Zug\" style=\"height:100px;\" alt=\"SZ_VZug.png\" />:SZ - Which of these brands of domestic appliances are you aware of?': 'V Zug',\n",
    "    '<img src=\"//surveygizmolibrary.s3.amazonaws.com/library/642038/SZ_Electrolux.png\" title=\"Electrolux\" style=\"width:130px;\" alt=\"SZ_Electrolux.png\" />:SZ - Which of these brands of domestic appliances are you aware of?': 'Electrolux',\n",
    "    '<img src=\"//surveygizmolibrary.s3.amazonaws.com/library/642038/SZ_Miele.png\" title=\"Electrolux\" style=\"width:130px;\" alt=\"SZ_Miele.png\" />:SZ - Which of these brands of domestic appliances are you aware of?': 'Miele',\n",
    "    '<img src=\"//surveygizmolibrary.s3.amazonaws.com/library/642038/SZ_Dyson.png\" title=\"Dyson\" style=\"width:130px;\" alt=\"SZ_Dyson.png\" />:SZ - Which of these brands of domestic appliances are you aware of?': 'Dyson',\n",
    "    '<img src=\"//surveygizmolibrary.s3.amazonaws.com/library/642038/SZ_Bosch.png\" title=\"Bosch\" style=\"width:130px;\" alt=\"SZ_Bosch.png\" />:SZ - Which of these brands of domestic appliances are you aware of?': 'Bosch',\n",
    "    '<img src=\"//surveygizmolibrary.s3.amazonaws.com/library/642038/SZ_Samsung.png\" title=\"Samsung\" style=\"width:130px;\" alt=\"SZ_Samsung.png\" />:SZ - Which of these brands of domestic appliances are you aware of?': 'Samsung',\n",
    "    '<img src=\"//surveygizmolibrary.s3.amazonaws.com/library/642038/SZ_Siemens.png\" title=\"Siemens\" style=\"width:130px;\" alt=\"SZ_Siemens.png\" />:SZ - Which of these brands of domestic appliances are you aware of?': 'Siemens',\n",
    "    '<img src=\"//surveygizmolibrary.s3.amazonaws.com/library/642038/SZ_Philips.png\" title=\"Philips\" style=\"width:130px;\" alt=\"SZ_Philips.png\" />:SZ - Which of these brands of domestic appliances are you aware of?': 'Phillips',\n",
    "    '<img src=\"//surveygizmolibrary.s3.amazonaws.com/library/642038/SZ_Bauknecht.png\" title=\"Bauknecht\" style=\"width:130px;\" alt=\"SZ_Bauknecht.png\" />:SZ - Which of these brands of domestic appliances are you aware of?': 'Bauknecht',\n",
    "    '<img src=\"//surveygizmolibrary.s3.amazonaws.com/library/642038/SZ_AEG.png\" title=\"AEG\" style=\"width:130px;\" alt=\"SZ_AEG.png\" />:SZ - Which of these brands of domestic appliances are you aware of?': 'AEG',\n",
    "    '<img src=\"//surveygizmolibrary.s3.amazonaws.com/library/642038/SZ_Liebherr.png\" title=\"Liebherr\" style=\"width:130px;\" alt=\"SZ_Liebherr.png\" />:SZ - Which of these brands of domestic appliances are you aware of?': 'Liebherr',\n",
    "    '<img src=\"//surveygizmolibrary.s3.amazonaws.com/library/642038/SZ_Schulthess.png\" title=\"Schulthess\" style=\"width:130px;\" alt=\"SZ_Schulthess.png\" />:SZ - Which of these brands of domestic appliances are you aware of?': 'Schulthess'\n",
    "})\n",
    "\n",
    "print(Switzerland.head())"
   ]
  },
  {
   "cell_type": "code",
   "execution_count": 18,
   "metadata": {},
   "outputs": [
    {
     "name": "stdout",
     "output_type": "stream",
     "text": [
      "   Response ID  Brand  Aware Y/N\n",
      "0        78375  V Zug          1\n",
      "1        78387  V Zug          1\n",
      "2        78581  V Zug          1\n",
      "3        78735  V Zug          0\n",
      "4        78849  V Zug          0\n"
     ]
    }
   ],
   "source": [
    "# Unpivot the DataFrame, renaming 'Variable' to 'Brand'\n",
    "switzerland_melted = Switzerland.melt(id_vars=['Response ID'], var_name='Brand', value_name='Aware Y/N')\n",
    "\n",
    "# Replace null values in the 'Aware Y/N' column with \"None of these\"\n",
    "# switzerland_melted['Aware Y/N'] = switzerland_melted['Aware Y/N'].fillna(\"None of these\")\n",
    "switzerland_melted['Aware Y/N'] = switzerland_melted['Aware Y/N'].fillna(0).astype(int)\n",
    "\n",
    "print(switzerland_melted.head())"
   ]
  },
  {
   "cell_type": "code",
   "execution_count": 19,
   "metadata": {},
   "outputs": [
    {
     "name": "stdout",
     "output_type": "stream",
     "text": [
      "Aware Y/N\n",
      "0     2036\n",
      "6      277\n",
      "5      274\n",
      "7      264\n",
      "2      262\n",
      "3      261\n",
      "8      257\n",
      "1      246\n",
      "4      245\n",
      "9      187\n",
      "10     178\n",
      "12     147\n",
      "11     142\n",
      "Name: count, dtype: int64\n"
     ]
    }
   ],
   "source": [
    "appliances_value_counts = switzerland_melted['Aware Y/N'].value_counts()\n",
    "print(appliances_value_counts)"
   ]
  },
  {
   "cell_type": "markdown",
   "metadata": {},
   "source": [
    "### Sweden"
   ]
  },
  {
   "cell_type": "code",
   "execution_count": 20,
   "metadata": {},
   "outputs": [
    {
     "name": "stdout",
     "output_type": "stream",
     "text": [
      "<class 'pandas.core.frame.DataFrame'>\n",
      "RangeIndex: 400 entries, 0 to 399\n",
      "Data columns (total 13 columns):\n",
      " #   Column                                                                                                                                                                                                                    Non-Null Count  Dtype  \n",
      "---  ------                                                                                                                                                                                                                    --------------  -----  \n",
      " 0   Response ID                                                                                                                                                                                                               400 non-null    int64  \n",
      " 1   <img src=\"//surveygizmolibrary.s3.amazonaws.com/library/642038/SW_Electrolux.png\" title=\"Electrolux\" style=\"width:130px;\" alt=\"SW_Electrolux.png\" />:SW - Which of these brands of domestic appliances are you aware of?  337 non-null    float64\n",
      " 2   <img src=\"//surveygizmolibrary.s3.amazonaws.com/library/642038/SW_Bosch.png\" title=\"Bosch\" style=\"width:130px;\" alt=\"SW_Bosch.png\" />:SW - Which of these brands of domestic appliances are you aware of?                 334 non-null    float64\n",
      " 3   <img src=\"//surveygizmolibrary.s3.amazonaws.com/library/642038/SW_Samsung.png\" title=\"Samsung\" style=\"width:130px;\" alt=\"SW_Samsung.png\" />:SW - Which of these brands of domestic appliances are you aware of?           321 non-null    float64\n",
      " 4   <img src=\"//surveygizmolibrary.s3.amazonaws.com/library/642038/SW_Miele.png\" title=\"Miele\" style=\"width:130px;\" alt=\"SW_Miele.png\" />:SW - Which of these brands of domestic appliances are you aware of?                 266 non-null    float64\n",
      " 5   <img src=\"//surveygizmolibrary.s3.amazonaws.com/library/642038/SW_Philips.png\" title=\"Philips\" style=\"width:130px;\" alt=\"SW_Philips.png\" />:SW - Which of these brands of domestic appliances are you aware of?           325 non-null    float64\n",
      " 6   <img src=\"//surveygizmolibrary.s3.amazonaws.com/library/642038/SW_Siemens.png\" title=\"Siemens\" style=\"width:130px;\" alt=\"SW_Siemens.png\" />:SW - Which of these brands of domestic appliances are you aware of?           297 non-null    float64\n",
      " 7   <img src=\"//surveygizmolibrary.s3.amazonaws.com/library/642038/SW_Cylinda.png\" title=\"Cylinda\" style=\"width:130px;\" alt=\"SW_Cylinda.png\" />:SW - Which of these brands of domestic appliances are you aware of?           277 non-null    float64\n",
      " 8   <img src=\"//surveygizmolibrary.s3.amazonaws.com/library/642038/SW_Whirlpool.png\" title=\"Whirlpool\" style=\"width:130px;\" alt=\"SW_Whirlpool.png\" />:SW - Which of these brands of domestic appliances are you aware of?     287 non-null    float64\n",
      " 9   <img src=\"//surveygizmolibrary.s3.amazonaws.com/library/642038/SW_LG.png\" title=\"LG\" style=\"width:130px;\" alt=\"SW_LG.png\" />:SW - Which of these brands of domestic appliances are you aware of?                          286 non-null    float64\n",
      " 10  <img src=\"//surveygizmolibrary.s3.amazonaws.com/library/642038/SW_Dyson.png\" title=\"Dyson\" style=\"width:130px;\" alt=\"SW_Dyson.png\" />:SW - Which of these brands of domestic appliances are you aware of?                 224 non-null    float64\n",
      " 11  <img src=\"//surveygizmolibrary.s3.amazonaws.com/library/642038/SW_AEG.png\" title=\"AEG\" style=\"width:130px;\" alt=\"SW_AEG.png\" />:SW - Which of these brands of domestic appliances are you aware of?                       197 non-null    float64\n",
      " 12  <img src=\"//surveygizmolibrary.s3.amazonaws.com/library/642038/SW_Roborock.png\" title=\"Roborock\" style=\"width:130px;\" alt=\"SW_Roborock.png\" />:SW - Which of these brands of domestic appliances are you aware of?        77 non-null     float64\n",
      "dtypes: float64(12), int64(1)\n",
      "memory usage: 40.8 KB\n"
     ]
    }
   ],
   "source": [
    "Sweden.info()"
   ]
  },
  {
   "cell_type": "code",
   "execution_count": 21,
   "metadata": {},
   "outputs": [
    {
     "name": "stdout",
     "output_type": "stream",
     "text": [
      "   Response ID  Electrolux   SW  Samsung  Miele  Phillips  Siemens  Cylinda  \\\n",
      "0        78236         1.0  NaN      3.0    NaN       NaN      NaN      7.0   \n",
      "1        78238         1.0  2.0      3.0    4.0       5.0      6.0      7.0   \n",
      "2        78241         1.0  2.0      3.0    4.0       5.0      6.0      7.0   \n",
      "3        78246         1.0  2.0      3.0    4.0       5.0      6.0      7.0   \n",
      "4        78248         1.0  2.0      3.0    4.0       5.0      6.0      7.0   \n",
      "\n",
      "   Whirlpool   LG  Dyson   AEG  Roborock  \n",
      "0        8.0  NaN    NaN   NaN       NaN  \n",
      "1        NaN  9.0   10.0   NaN       NaN  \n",
      "2        8.0  9.0   10.0  11.0      12.0  \n",
      "3        8.0  9.0   10.0   NaN      12.0  \n",
      "4        8.0  9.0   10.0   NaN       NaN  \n"
     ]
    }
   ],
   "source": [
    "# Rename specific columns in the DataFrame\n",
    "Sweden = Sweden.rename(columns={\n",
    "    '<img src=\"//surveygizmolibrary.s3.amazonaws.com/library/642038/SW_Electrolux.png\" title=\"Electrolux\" style=\"width:130px;\" alt=\"SW_Electrolux.png\" />:SW - Which of these brands of domestic appliances are you aware of?': 'Electrolux',\n",
    "    '<img src=\"//surveygizmolibrary.s3.amazonaws.com/library/642038/SW_Bosch.png\" title=\"Bosch\" style=\"width:130px;\" alt=\"SW_Bosch.png\" />:SW - Which of these brands of domestic appliances are you aware of?': 'SW',\n",
    "    '<img src=\"//surveygizmolibrary.s3.amazonaws.com/library/642038/SW_Samsung.png\" title=\"Samsung\" style=\"width:130px;\" alt=\"SW_Samsung.png\" />:SW - Which of these brands of domestic appliances are you aware of?': 'Samsung',\n",
    "    '<img src=\"//surveygizmolibrary.s3.amazonaws.com/library/642038/SW_Miele.png\" title=\"Miele\" style=\"width:130px;\" alt=\"SW_Miele.png\" />:SW - Which of these brands of domestic appliances are you aware of?': 'Miele',\n",
    "    '<img src=\"//surveygizmolibrary.s3.amazonaws.com/library/642038/SW_Philips.png\" title=\"Philips\" style=\"width:130px;\" alt=\"SW_Philips.png\" />:SW - Which of these brands of domestic appliances are you aware of?': 'Phillips',\n",
    "    '<img src=\"//surveygizmolibrary.s3.amazonaws.com/library/642038/SW_Siemens.png\" title=\"Siemens\" style=\"width:130px;\" alt=\"SW_Siemens.png\" />:SW - Which of these brands of domestic appliances are you aware of?': 'Siemens',\n",
    "    '<img src=\"//surveygizmolibrary.s3.amazonaws.com/library/642038/SW_Cylinda.png\" title=\"Cylinda\" style=\"width:130px;\" alt=\"SW_Cylinda.png\" />:SW - Which of these brands of domestic appliances are you aware of?': 'Cylinda',\n",
    "    '<img src=\"//surveygizmolibrary.s3.amazonaws.com/library/642038/SW_Whirlpool.png\" title=\"Whirlpool\" style=\"width:130px;\" alt=\"SW_Whirlpool.png\" />:SW - Which of these brands of domestic appliances are you aware of?': 'Whirlpool',\n",
    "    '<img src=\"//surveygizmolibrary.s3.amazonaws.com/library/642038/SW_LG.png\" title=\"LG\" style=\"width:130px;\" alt=\"SW_LG.png\" />:SW - Which of these brands of domestic appliances are you aware of?': 'LG',\n",
    "    '<img src=\"//surveygizmolibrary.s3.amazonaws.com/library/642038/SW_Dyson.png\" title=\"Dyson\" style=\"width:130px;\" alt=\"SW_Dyson.png\" />:SW - Which of these brands of domestic appliances are you aware of?': 'Dyson',\n",
    "    '<img src=\"//surveygizmolibrary.s3.amazonaws.com/library/642038/SW_AEG.png\" title=\"AEG\" style=\"width:130px;\" alt=\"SW_AEG.png\" />:SW - Which of these brands of domestic appliances are you aware of?': 'AEG',\n",
    "    '<img src=\"//surveygizmolibrary.s3.amazonaws.com/library/642038/SW_Roborock.png\" title=\"Roborock\" style=\"width:130px;\" alt=\"SW_Roborock.png\" />:SW - Which of these brands of domestic appliances are you aware of?': 'Roborock'\n",
    "})\n",
    "\n",
    "print(Sweden.head())"
   ]
  },
  {
   "cell_type": "code",
   "execution_count": 22,
   "metadata": {},
   "outputs": [
    {
     "name": "stdout",
     "output_type": "stream",
     "text": [
      "   Response ID       Brand  Aware Y/N\n",
      "0        78236  Electrolux          1\n",
      "1        78238  Electrolux          1\n",
      "2        78241  Electrolux          1\n",
      "3        78246  Electrolux          1\n",
      "4        78248  Electrolux          1\n"
     ]
    }
   ],
   "source": [
    "# Unpivot the DataFrame, renaming 'Variable' to 'Brand'\n",
    "sweden_melted = Sweden.melt(id_vars=['Response ID'], var_name='Brand', value_name='Aware Y/N')\n",
    "\n",
    "# Replace null values in the 'Aware Y/N' column with \"None of these\"\n",
    "# sweden_melted['Aware Y/N'] = switzerland_melted['Aware Y/N'].fillna(\"None of these\")\n",
    "sweden_melted['Aware Y/N'] = sweden_melted['Aware Y/N'].fillna(0).astype(int)\n",
    "\n",
    "print(sweden_melted.head())"
   ]
  },
  {
   "cell_type": "code",
   "execution_count": 23,
   "metadata": {},
   "outputs": [
    {
     "name": "stdout",
     "output_type": "stream",
     "text": [
      "Aware Y/N\n",
      "0     1572\n",
      "1      337\n",
      "2      334\n",
      "5      325\n",
      "3      321\n",
      "6      297\n",
      "8      287\n",
      "9      286\n",
      "7      277\n",
      "4      266\n",
      "10     224\n",
      "11     197\n",
      "12      77\n",
      "Name: count, dtype: int64\n"
     ]
    }
   ],
   "source": [
    "appliances_value_counts = sweden_melted['Aware Y/N'].value_counts()\n",
    "print(appliances_value_counts)"
   ]
  },
  {
   "cell_type": "markdown",
   "metadata": {},
   "source": [
    "### Thailand"
   ]
  },
  {
   "cell_type": "code",
   "execution_count": 24,
   "metadata": {},
   "outputs": [
    {
     "name": "stdout",
     "output_type": "stream",
     "text": [
      "<class 'pandas.core.frame.DataFrame'>\n",
      "RangeIndex: 399 entries, 0 to 398\n",
      "Data columns (total 13 columns):\n",
      " #   Column                                                                                                                                                                                                                     Non-Null Count  Dtype  \n",
      "---  ------                                                                                                                                                                                                                     --------------  -----  \n",
      " 0   Response ID                                                                                                                                                                                                                399 non-null    int64  \n",
      " 1   <img src=\"//surveygizmolibrary.s3.amazonaws.com/library/642038/TH_Samsung.png\" title=\"Samsung\" style=\"height:130px;\" alt=\"TH_Samsung.png\" />:TH - Which of these brands of domestic appliances are you aware of?           333 non-null    float64\n",
      " 2   <img src=\"//surveygizmolibrary.s3.amazonaws.com/library/642038/TH_LG.png\" title=\"LG\" style=\"height:130px;\" alt=\"TH_LG.png\" />:TH - Which of these brands of domestic appliances are you aware of?                          325 non-null    float64\n",
      " 3   <img src=\"//surveygizmolibrary.s3.amazonaws.com/library/642038/TH_Mitsubishi.png\" title=\"Mitsubishi\" style=\"height:130px;\" alt=\"TH_Mitsubishi.png\" />:TH - Which of these brands of domestic appliances are you aware of?  283 non-null    float64\n",
      " 4   <img src=\"//surveygizmolibrary.s3.amazonaws.com/library/642038/TH_Electrolux.png\" title=\"Electrolux\" style=\"height:130px;\" alt=\"TH_Electrolux.png\" />:TH - Which of these brands of domestic appliances are you aware of?  246 non-null    float64\n",
      " 5   <img src=\"//surveygizmolibrary.s3.amazonaws.com/library/642038/TH_Panasonic.png\" title=\"Panasonic\" style=\"height:130px;\" alt=\"TH_Panasonic.png\" />:TH - Which of these brands of domestic appliances are you aware of?     289 non-null    float64\n",
      " 6   <img src=\"//surveygizmolibrary.s3.amazonaws.com/library/642038/TH_Sharp.png\" title=\"Sharp\" style=\"height:130px;\" alt=\"TH_Sharp.png\" />:TH - Which of these brands of domestic appliances are you aware of?                 293 non-null    float64\n",
      " 7   <img src=\"//surveygizmolibrary.s3.amazonaws.com/library/642038/TH_Philips.png\" title=\"Philips\" style=\"height:130px;\" alt=\"TH_Philips.png\" />:TH - Which of these brands of domestic appliances are you aware of?           277 non-null    float64\n",
      " 8   <img src=\"//surveygizmolibrary.s3.amazonaws.com/library/642038/TH_Hitachi.png\" title=\"Hitachi\" style=\"height:130px;\" alt=\"TH_Hitachi.png\" />:TH - Which of these brands of domestic appliances are you aware of?           260 non-null    float64\n",
      " 9   <img src=\"//surveygizmolibrary.s3.amazonaws.com/library/642038/TH_Haier.png\" title=\"Haier\" style=\"height:130px;\" alt=\"TH_Haier.png\" />:TH - Which of these brands of domestic appliances are you aware of?                 268 non-null    float64\n",
      " 10  <img src=\"//surveygizmolibrary.s3.amazonaws.com/library/642038/TH_Tefal.png\" title=\"Tefal\" style=\"height:130px;\" alt=\"TH_Tefal.png\" />:TH - Which of these brands of domestic appliances are you aware of?                 216 non-null    float64\n",
      " 11  <img src=\"//surveygizmolibrary.s3.amazonaws.com/library/642038/TH_Bosch.png\" title=\"Bosch\" style=\"height:130px;\" alt=\"TH_Bosch.png\" />:TH - Which of these brands of domestic appliances are you aware of?                 176 non-null    float64\n",
      " 12  <img src=\"//surveygizmolibrary.s3.amazonaws.com/library/642038/TH_Dyson.png\" title=\"Dyson\" style=\"height:130px;\" alt=\"TH_Dyson.png\" />:TH - Which of these brands of domestic appliances are you aware of?                 139 non-null    float64\n",
      "dtypes: float64(12), int64(1)\n",
      "memory usage: 40.7 KB\n"
     ]
    }
   ],
   "source": [
    "Thailand.info()"
   ]
  },
  {
   "cell_type": "code",
   "execution_count": 25,
   "metadata": {},
   "outputs": [
    {
     "name": "stdout",
     "output_type": "stream",
     "text": [
      "   Response ID  Samsung   LG  Mitsubishi  Electrolux  Panasonic  Sharp  \\\n",
      "0        78252      1.0  2.0         3.0         4.0        5.0    6.0   \n",
      "1        78269      1.0  2.0         3.0         4.0        NaN    6.0   \n",
      "2        78313      1.0  2.0         3.0         4.0        5.0    6.0   \n",
      "3        78345      1.0  NaN         NaN         NaN        5.0    6.0   \n",
      "4        78363      1.0  NaN         3.0         NaN        NaN    NaN   \n",
      "\n",
      "   Phillips  Hitachi  Haier  Tefal  Bosch  Dyson  \n",
      "0       7.0      NaN    9.0   10.0    NaN    NaN  \n",
      "1       7.0      8.0    9.0   10.0    NaN   12.0  \n",
      "2       7.0      8.0    9.0   10.0   11.0   12.0  \n",
      "3       7.0      NaN    NaN    NaN    NaN    NaN  \n",
      "4       NaN      8.0    NaN    NaN    NaN    NaN  \n"
     ]
    }
   ],
   "source": [
    "# Rename specific columns in the DataFrame\n",
    "Thailand = Thailand.rename(columns={\n",
    "    '<img src=\"//surveygizmolibrary.s3.amazonaws.com/library/642038/TH_Samsung.png\" title=\"Samsung\" style=\"height:130px;\" alt=\"TH_Samsung.png\" />:TH - Which of these brands of domestic appliances are you aware of?': 'Samsung',\n",
    "    '<img src=\"//surveygizmolibrary.s3.amazonaws.com/library/642038/TH_LG.png\" title=\"LG\" style=\"height:130px;\" alt=\"TH_LG.png\" />:TH - Which of these brands of domestic appliances are you aware of?': 'LG',\n",
    "    '<img src=\"//surveygizmolibrary.s3.amazonaws.com/library/642038/TH_Mitsubishi.png\" title=\"Mitsubishi\" style=\"height:130px;\" alt=\"TH_Mitsubishi.png\" />:TH - Which of these brands of domestic appliances are you aware of?': 'Mitsubishi',\n",
    "    '<img src=\"//surveygizmolibrary.s3.amazonaws.com/library/642038/TH_Electrolux.png\" title=\"Electrolux\" style=\"height:130px;\" alt=\"TH_Electrolux.png\" />:TH - Which of these brands of domestic appliances are you aware of?': 'Electrolux',\n",
    "    '<img src=\"//surveygizmolibrary.s3.amazonaws.com/library/642038/TH_Panasonic.png\" title=\"Panasonic\" style=\"height:130px;\" alt=\"TH_Panasonic.png\" />:TH - Which of these brands of domestic appliances are you aware of?': 'Panasonic',\n",
    "    '<img src=\"//surveygizmolibrary.s3.amazonaws.com/library/642038/TH_Sharp.png\" title=\"Sharp\" style=\"height:130px;\" alt=\"TH_Sharp.png\" />:TH - Which of these brands of domestic appliances are you aware of?': 'Sharp',\n",
    "    '<img src=\"//surveygizmolibrary.s3.amazonaws.com/library/642038/TH_Philips.png\" title=\"Philips\" style=\"height:130px;\" alt=\"TH_Philips.png\" />:TH - Which of these brands of domestic appliances are you aware of?': 'Phillips',\n",
    "    '<img src=\"//surveygizmolibrary.s3.amazonaws.com/library/642038/TH_Hitachi.png\" title=\"Hitachi\" style=\"height:130px;\" alt=\"TH_Hitachi.png\" />:TH - Which of these brands of domestic appliances are you aware of?': 'Hitachi',\n",
    "    '<img src=\"//surveygizmolibrary.s3.amazonaws.com/library/642038/TH_Haier.png\" title=\"Haier\" style=\"height:130px;\" alt=\"TH_Haier.png\" />:TH - Which of these brands of domestic appliances are you aware of?': 'Haier',\n",
    "    '<img src=\"//surveygizmolibrary.s3.amazonaws.com/library/642038/TH_Tefal.png\" title=\"Tefal\" style=\"height:130px;\" alt=\"TH_Tefal.png\" />:TH - Which of these brands of domestic appliances are you aware of?': 'Tefal',\n",
    "    '<img src=\"//surveygizmolibrary.s3.amazonaws.com/library/642038/TH_Bosch.png\" title=\"Bosch\" style=\"height:130px;\" alt=\"TH_Bosch.png\" />:TH - Which of these brands of domestic appliances are you aware of?': 'Bosch',\n",
    "    '<img src=\"//surveygizmolibrary.s3.amazonaws.com/library/642038/TH_Dyson.png\" title=\"Dyson\" style=\"height:130px;\" alt=\"TH_Dyson.png\" />:TH - Which of these brands of domestic appliances are you aware of?': 'Dyson'\n",
    "})\n",
    "\n",
    "print(Thailand.head())"
   ]
  },
  {
   "cell_type": "code",
   "execution_count": 26,
   "metadata": {},
   "outputs": [
    {
     "name": "stdout",
     "output_type": "stream",
     "text": [
      "   Response ID    Brand  Aware Y/N\n",
      "0        78252  Samsung          1\n",
      "1        78269  Samsung          1\n",
      "2        78313  Samsung          1\n",
      "3        78345  Samsung          1\n",
      "4        78363  Samsung          1\n"
     ]
    }
   ],
   "source": [
    "# Unpivot the DataFrame, renaming 'Variable' to 'Brand'\n",
    "thailand_melted = Thailand.melt(id_vars=['Response ID'], var_name='Brand', value_name='Aware Y/N')\n",
    "\n",
    "# Replace null values in the 'Aware Y/N' column with \"None of these\"\n",
    "# thailand_melted['Aware Y/N'] = thailand_melted['Aware Y/N'].fillna(\"None of these\")\n",
    "thailand_melted['Aware Y/N'] = thailand_melted['Aware Y/N'].fillna(0).astype(int)\n",
    "\n",
    "print(thailand_melted.head())"
   ]
  },
  {
   "cell_type": "code",
   "execution_count": 27,
   "metadata": {},
   "outputs": [
    {
     "name": "stdout",
     "output_type": "stream",
     "text": [
      "Aware Y/N\n",
      "0     1683\n",
      "1      333\n",
      "2      325\n",
      "6      293\n",
      "5      289\n",
      "3      283\n",
      "7      277\n",
      "9      268\n",
      "8      260\n",
      "4      246\n",
      "10     216\n",
      "11     176\n",
      "12     139\n",
      "Name: count, dtype: int64\n"
     ]
    }
   ],
   "source": [
    "appliances_value_counts = thailand_melted['Aware Y/N'].value_counts()\n",
    "print(appliances_value_counts)"
   ]
  },
  {
   "cell_type": "markdown",
   "metadata": {},
   "source": [
    "### UK"
   ]
  },
  {
   "cell_type": "code",
   "execution_count": 28,
   "metadata": {},
   "outputs": [
    {
     "name": "stdout",
     "output_type": "stream",
     "text": [
      "<class 'pandas.core.frame.DataFrame'>\n",
      "RangeIndex: 396 entries, 0 to 395\n",
      "Data columns (total 13 columns):\n",
      " #   Column                                                                                                                                                                                                              Non-Null Count  Dtype  \n",
      "---  ------                                                                                                                                                                                                              --------------  -----  \n",
      " 0   Response ID                                                                                                                                                                                                         396 non-null    int64  \n",
      " 1   <img src=\"//surveygizmolibrary.s3.amazonaws.com/library/642038/UK_Samsung.png\" title=\"Samsung\" style=\"width:130px;\" alt=\"UK_Samsung.png\" />:UK - Which of these brands of domestic appliances are you aware of?     342 non-null    float64\n",
      " 2   <img src=\"//surveygizmolibrary.s3.amazonaws.com/library/642038/UK_LG.png\" title=\"LG\" style=\"width:130px;\" alt=\"UK_LG.png\" />:UK - Which of these brands of domestic appliances are you aware of?                    334 non-null    float64\n",
      " 3   <img src=\"//surveygizmolibrary.s3.amazonaws.com/library/642038/UK_Hotpoint.png\" title=\"Hotpoint\" style=\"width:130px;\" alt=\"UK_Hotpoint.png\" />:UK - Which of these brands of domestic appliances are you aware of?  296 non-null    float64\n",
      " 4   <img src=\"//surveygizmolibrary.s3.amazonaws.com/library/642038/UK_Bosch.png\" title=\"Bosch\" style=\"width:130px;\" alt=\"UK_Bosch.png\" />:UK - Which of these brands of domestic appliances are you aware of?           320 non-null    float64\n",
      " 5   <img src=\"//surveygizmolibrary.s3.amazonaws.com/library/642038/UK_Dyson.png\" title=\"Dyson\" style=\"width:130px;\" alt=\"UK_Dyson.png\" />:UK - Which of these brands of domestic appliances are you aware of?           317 non-null    float64\n",
      " 6   <img src=\"//surveygizmolibrary.s3.amazonaws.com/library/642038/UK_Beko.png\" title=\"Beko\" style=\"width:130px;\" alt=\"UK_Beko.png\" />:UK - Which of these brands of domestic appliances are you aware of?              299 non-null    float64\n",
      " 7   <img src=\"//surveygizmolibrary.s3.amazonaws.com/library/642038/UK_Shark.png\" title=\"Shark\" style=\"width:130px;\" alt=\"UK_Shark.png\" />:UK - Which of these brands of domestic appliances are you aware of?           285 non-null    float64\n",
      " 8   <img src=\"//surveygizmolibrary.s3.amazonaws.com/library/642038/UK_Zanussi.png\" title=\"Zanussi\" style=\"width:130px;\" alt=\"UK_Zanussi.png\" />:UK - Which of these brands of domestic appliances are you aware of?     252 non-null    float64\n",
      " 9   <img src=\"//surveygizmolibrary.s3.amazonaws.com/library/642038/UK_Miele.png\" title=\"Miele\" style=\"width:130px;\" alt=\"UK_Miele.png\" />:UK - Which of these brands of domestic appliances are you aware of?           209 non-null    float64\n",
      " 10  <img src=\"//surveygizmolibrary.s3.amazonaws.com/library/642038/UK_AEG.png\" title=\"AEG\" style=\"width:130px;\" alt=\"UK_AEG.png\" />:UK - Which of these brands of domestic appliances are you aware of?                 229 non-null    float64\n",
      " 11  <img src=\"//surveygizmolibrary.s3.amazonaws.com/library/642038/UK_Siemens.png\" title=\"Siemens\" style=\"width:130px;\" alt=\"UK_Siemens.png\" />:UK - Which of these brands of domestic appliances are you aware of?     270 non-null    float64\n",
      " 12  <img src=\"//surveygizmolibrary.s3.amazonaws.com/library/642038/UK_Neff.png\" title=\"Neff\" style=\"width:130px;\" alt=\"UK_Neff.png\" />:UK - Which of these brands of domestic appliances are you aware of?              174 non-null    float64\n",
      "dtypes: float64(12), int64(1)\n",
      "memory usage: 40.3 KB\n"
     ]
    }
   ],
   "source": [
    "UK.info()"
   ]
  },
  {
   "cell_type": "code",
   "execution_count": 29,
   "metadata": {},
   "outputs": [
    {
     "name": "stdout",
     "output_type": "stream",
     "text": [
      "   Response ID  Samsung   LG  Hotpoint  Bosch  Dyson  Beko  Shark  Zanussi  \\\n",
      "0        78251      NaN  2.0       3.0    NaN    5.0   6.0    NaN      NaN   \n",
      "1        78258      1.0  NaN       NaN    4.0    5.0   NaN    NaN      NaN   \n",
      "2        78259      1.0  2.0       3.0    4.0    5.0   6.0    7.0      8.0   \n",
      "3        78261      1.0  NaN       NaN    NaN    NaN   6.0    NaN      NaN   \n",
      "4        78262      1.0  2.0       3.0    4.0    5.0   NaN    7.0      NaN   \n",
      "\n",
      "   Miele   AEG  Siemens  Neff  \n",
      "0    NaN  10.0     11.0   NaN  \n",
      "1    NaN   NaN      NaN   NaN  \n",
      "2    9.0  10.0     11.0  12.0  \n",
      "3    NaN   NaN     11.0   NaN  \n",
      "4    9.0   NaN     11.0  12.0  \n"
     ]
    }
   ],
   "source": [
    "# Rename specific columns in the DataFrame\n",
    "UK = UK.rename(columns={\n",
    "    '<img src=\"//surveygizmolibrary.s3.amazonaws.com/library/642038/UK_Samsung.png\" title=\"Samsung\" style=\"width:130px;\" alt=\"UK_Samsung.png\" />:UK - Which of these brands of domestic appliances are you aware of?': 'Samsung',\n",
    "    '<img src=\"//surveygizmolibrary.s3.amazonaws.com/library/642038/UK_LG.png\" title=\"LG\" style=\"width:130px;\" alt=\"UK_LG.png\" />:UK - Which of these brands of domestic appliances are you aware of?': 'LG',\n",
    "    '<img src=\"//surveygizmolibrary.s3.amazonaws.com/library/642038/UK_Hotpoint.png\" title=\"Hotpoint\" style=\"width:130px;\" alt=\"UK_Hotpoint.png\" />:UK - Which of these brands of domestic appliances are you aware of?': 'Hotpoint',\n",
    "    '<img src=\"//surveygizmolibrary.s3.amazonaws.com/library/642038/UK_Bosch.png\" title=\"Bosch\" style=\"width:130px;\" alt=\"UK_Bosch.png\" />:UK - Which of these brands of domestic appliances are you aware of?': 'Bosch',\n",
    "    '<img src=\"//surveygizmolibrary.s3.amazonaws.com/library/642038/UK_Dyson.png\" title=\"Dyson\" style=\"width:130px;\" alt=\"UK_Dyson.png\" />:UK - Which of these brands of domestic appliances are you aware of?': 'Dyson',\n",
    "    '<img src=\"//surveygizmolibrary.s3.amazonaws.com/library/642038/UK_Beko.png\" title=\"Beko\" style=\"width:130px;\" alt=\"UK_Beko.png\" />:UK - Which of these brands of domestic appliances are you aware of?': 'Beko',\n",
    "    '<img src=\"//surveygizmolibrary.s3.amazonaws.com/library/642038/UK_Shark.png\" title=\"Shark\" style=\"width:130px;\" alt=\"UK_Shark.png\" />:UK - Which of these brands of domestic appliances are you aware of?': 'Shark',\n",
    "    '<img src=\"//surveygizmolibrary.s3.amazonaws.com/library/642038/UK_Zanussi.png\" title=\"Zanussi\" style=\"width:130px;\" alt=\"UK_Zanussi.png\" />:UK - Which of these brands of domestic appliances are you aware of?': 'Zanussi',\n",
    "    '<img src=\"//surveygizmolibrary.s3.amazonaws.com/library/642038/UK_Miele.png\" title=\"Miele\" style=\"width:130px;\" alt=\"UK_Miele.png\" />:UK - Which of these brands of domestic appliances are you aware of?': 'Miele',\n",
    "    '<img src=\"//surveygizmolibrary.s3.amazonaws.com/library/642038/UK_AEG.png\" title=\"AEG\" style=\"width:130px;\" alt=\"UK_AEG.png\" />:UK - Which of these brands of domestic appliances are you aware of?': 'AEG',\n",
    "    '<img src=\"//surveygizmolibrary.s3.amazonaws.com/library/642038/UK_Siemens.png\" title=\"Siemens\" style=\"width:130px;\" alt=\"UK_Siemens.png\" />:UK - Which of these brands of domestic appliances are you aware of?': 'Siemens',\n",
    "    '<img src=\"//surveygizmolibrary.s3.amazonaws.com/library/642038/UK_Neff.png\" title=\"Neff\" style=\"width:130px;\" alt=\"UK_Neff.png\" />:UK - Which of these brands of domestic appliances are you aware of?': 'Neff'\n",
    "})\n",
    "\n",
    "print(UK.head())"
   ]
  },
  {
   "cell_type": "code",
   "execution_count": 30,
   "metadata": {},
   "outputs": [
    {
     "name": "stdout",
     "output_type": "stream",
     "text": [
      "   Response ID    Brand  Aware Y/N\n",
      "0        78251  Samsung          0\n",
      "1        78258  Samsung          1\n",
      "2        78259  Samsung          1\n",
      "3        78261  Samsung          1\n",
      "4        78262  Samsung          1\n"
     ]
    }
   ],
   "source": [
    "# Unpivot the DataFrame, renaming 'Variable' to 'Brand'\n",
    "uk_melted = UK.melt(id_vars=['Response ID'], var_name='Brand', value_name='Aware Y/N')\n",
    "\n",
    "# Replace null values in the 'Aware Y/N' column with \"None of these\"\n",
    "# uk_melted['Aware Y/N'] = thailand_melted['Aware Y/N'].fillna(\"None of these\")\n",
    "uk_melted['Aware Y/N'] = uk_melted['Aware Y/N'].fillna(0).astype(int)\n",
    "\n",
    "print(uk_melted.head())"
   ]
  },
  {
   "cell_type": "code",
   "execution_count": 31,
   "metadata": {},
   "outputs": [
    {
     "name": "stdout",
     "output_type": "stream",
     "text": [
      "Aware Y/N\n",
      "0     1425\n",
      "1      342\n",
      "2      334\n",
      "4      320\n",
      "5      317\n",
      "6      299\n",
      "3      296\n",
      "7      285\n",
      "11     270\n",
      "8      252\n",
      "10     229\n",
      "9      209\n",
      "12     174\n",
      "Name: count, dtype: int64\n"
     ]
    }
   ],
   "source": [
    "appliances_value_counts = uk_melted['Aware Y/N'].value_counts()\n",
    "print(appliances_value_counts)"
   ]
  },
  {
   "cell_type": "markdown",
   "metadata": {},
   "source": [
    "### Vietnam"
   ]
  },
  {
   "cell_type": "code",
   "execution_count": 32,
   "metadata": {},
   "outputs": [
    {
     "name": "stdout",
     "output_type": "stream",
     "text": [
      "<class 'pandas.core.frame.DataFrame'>\n",
      "RangeIndex: 400 entries, 0 to 399\n",
      "Data columns (total 13 columns):\n",
      " #   Column                                                                                                                                                                                                                     Non-Null Count  Dtype  \n",
      "---  ------                                                                                                                                                                                                                     --------------  -----  \n",
      " 0   Response ID                                                                                                                                                                                                                400 non-null    int64  \n",
      " 1   <img src=\"//surveygizmolibrary.s3.amazonaws.com/library/642038/VN_Samsung.png\" title=\"Samsung\" style=\"height:130px;\" alt=\"VN_Samsung.png\" />:VN - Which of these brands of domestic appliances are you aware of?           329 non-null    float64\n",
      " 2   <img src=\"//surveygizmolibrary.s3.amazonaws.com/library/642038/VN_Panasonic.png\" title=\"Panasonic\" style=\"height:130px;\" alt=\"VN_Panasonic.png\" />:VN - Which of these brands of domestic appliances are you aware of?     296 non-null    float64\n",
      " 3   <img src=\"//surveygizmolibrary.s3.amazonaws.com/library/642038/VN_LG.png\" title=\"LG\" style=\"height:130px;\" alt=\"VN_LG.png\" />:VN - Which of these brands of domestic appliances are you aware of?                          303 non-null    float64\n",
      " 4   <img src=\"//surveygizmolibrary.s3.amazonaws.com/library/642038/VN_Toshiba.png\" title=\"Toshiba\" style=\"height:130px;\" alt=\"VN_Toshiba.png\" />:VN - Which of these brands of domestic appliances are you aware of?           233 non-null    float64\n",
      " 5   <img src=\"//surveygizmolibrary.s3.amazonaws.com/library/642038/VN_Electrolux.png\" title=\"Electrolux\" style=\"height:130px;\" alt=\"VN_Electrolux.png\" />:VN - Which of these brands of domestic appliances are you aware of?  205 non-null    float64\n",
      " 6   <img src=\"//surveygizmolibrary.s3.amazonaws.com/library/642038/VN_Sharp.png\" title=\"Sharp\" style=\"height:130px;\" alt=\"VN_Sharp.png\" />:VN - Which of these brands of domestic appliances are you aware of?                 210 non-null    float64\n",
      " 7   <img src=\"//surveygizmolibrary.s3.amazonaws.com/library/642038/VN_Philips.png\" title=\"Philips\" style=\"height:130px;\" alt=\"VN_Philips.png\" />:VN - Which of these brands of domestic appliances are you aware of?           193 non-null    float64\n",
      " 8   <img src=\"//surveygizmolibrary.s3.amazonaws.com/library/642038/VN_Hitachi.png\" title=\"Hitachi\" style=\"height:130px;\" alt=\"VN_Hitachi.png\" />:VN - Which of these brands of domestic appliances are you aware of?           175 non-null    float64\n",
      " 9   <img src=\"//surveygizmolibrary.s3.amazonaws.com/library/642038/VN_Xiaomi.png\" title=\"Xiaomi\" style=\"height:130px;\" alt=\"VN_Xiaomi.png\" />:VN - Which of these brands of domestic appliances are you aware of?              210 non-null    float64\n",
      " 10  <img src=\"//surveygizmolibrary.s3.amazonaws.com/library/642038/VN_Aqua.png\" title=\"Aqua\" style=\"height:130px;\" alt=\"VN_Aqua.png\" />:VN - Which of these brands of domestic appliances are you aware of?                    200 non-null    float64\n",
      " 11  <img src=\"//surveygizmolibrary.s3.amazonaws.com/library/642038/VN_Bosch.png\" title=\"Bosch\" style=\"height:130px;\" alt=\"VN_Bosch.png\" />:VN - Which of these brands of domestic appliances are you aware of?                 140 non-null    float64\n",
      " 12  <img src=\"//surveygizmolibrary.s3.amazonaws.com/library/642038/VN_Midea.png\" title=\"Midea\" style=\"height:130px;\" alt=\"VN_Midea.png\" />:VN - Which of these brands of domestic appliances are you aware of?                 115 non-null    float64\n",
      "dtypes: float64(12), int64(1)\n",
      "memory usage: 40.8 KB\n"
     ]
    }
   ],
   "source": [
    "Vietnam.info()"
   ]
  },
  {
   "cell_type": "code",
   "execution_count": 33,
   "metadata": {},
   "outputs": [
    {
     "name": "stdout",
     "output_type": "stream",
     "text": [
      "   Response ID  Samsung  Panasonic   LG  Toshiba  Electrolux  Sharp  Phillips  \\\n",
      "0        78271      1.0        2.0  NaN      4.0         NaN    NaN       NaN   \n",
      "1        78275      1.0        2.0  NaN      NaN         NaN    NaN       NaN   \n",
      "2        78287      1.0        2.0  3.0      4.0         NaN    NaN       7.0   \n",
      "3        78291      1.0        2.0  3.0      4.0         5.0    6.0       7.0   \n",
      "4        78358      1.0        2.0  3.0      NaN         NaN    6.0       7.0   \n",
      "\n",
      "   Hitachi  Xiaomi  Aqua  Bosch  Midea  \n",
      "0      NaN     9.0  10.0    NaN    NaN  \n",
      "1      NaN     NaN  10.0    NaN    NaN  \n",
      "2      NaN     9.0  10.0    NaN    NaN  \n",
      "3      NaN     9.0  10.0    NaN    NaN  \n",
      "4      NaN     9.0   NaN    NaN   12.0  \n"
     ]
    }
   ],
   "source": [
    "# Rename specific columns in the DataFrame\n",
    "Vietnam = Vietnam.rename(columns={\n",
    "    '<img src=\"//surveygizmolibrary.s3.amazonaws.com/library/642038/VN_Samsung.png\" title=\"Samsung\" style=\"height:130px;\" alt=\"VN_Samsung.png\" />:VN - Which of these brands of domestic appliances are you aware of?': 'Samsung',\n",
    "    '<img src=\"//surveygizmolibrary.s3.amazonaws.com/library/642038/VN_Panasonic.png\" title=\"Panasonic\" style=\"height:130px;\" alt=\"VN_Panasonic.png\" />:VN - Which of these brands of domestic appliances are you aware of?': 'Panasonic',\n",
    "    '<img src=\"//surveygizmolibrary.s3.amazonaws.com/library/642038/VN_LG.png\" title=\"LG\" style=\"height:130px;\" alt=\"VN_LG.png\" />:VN - Which of these brands of domestic appliances are you aware of?': 'LG',\n",
    "    '<img src=\"//surveygizmolibrary.s3.amazonaws.com/library/642038/VN_Toshiba.png\" title=\"Toshiba\" style=\"height:130px;\" alt=\"VN_Toshiba.png\" />:VN - Which of these brands of domestic appliances are you aware of?': 'Toshiba',\n",
    "    '<img src=\"//surveygizmolibrary.s3.amazonaws.com/library/642038/VN_Electrolux.png\" title=\"Electrolux\" style=\"height:130px;\" alt=\"VN_Electrolux.png\" />:VN - Which of these brands of domestic appliances are you aware of?': 'Electrolux',\n",
    "    '<img src=\"//surveygizmolibrary.s3.amazonaws.com/library/642038/VN_Sharp.png\" title=\"Sharp\" style=\"height:130px;\" alt=\"VN_Sharp.png\" />:VN - Which of these brands of domestic appliances are you aware of?': 'Sharp',\n",
    "    '<img src=\"//surveygizmolibrary.s3.amazonaws.com/library/642038/VN_Philips.png\" title=\"Philips\" style=\"height:130px;\" alt=\"VN_Philips.png\" />:VN - Which of these brands of domestic appliances are you aware of?': 'Phillips',\n",
    "    '<img src=\"//surveygizmolibrary.s3.amazonaws.com/library/642038/VN_Hitachi.png\" title=\"Hitachi\" style=\"height:130px;\" alt=\"VN_Hitachi.png\" />:VN - Which of these brands of domestic appliances are you aware of?': 'Hitachi',\n",
    "    '<img src=\"//surveygizmolibrary.s3.amazonaws.com/library/642038/VN_Xiaomi.png\" title=\"Xiaomi\" style=\"height:130px;\" alt=\"VN_Xiaomi.png\" />:VN - Which of these brands of domestic appliances are you aware of?': 'Xiaomi',\n",
    "    '<img src=\"//surveygizmolibrary.s3.amazonaws.com/library/642038/VN_Aqua.png\" title=\"Aqua\" style=\"height:130px;\" alt=\"VN_Aqua.png\" />:VN - Which of these brands of domestic appliances are you aware of?': 'Aqua',\n",
    "    '<img src=\"//surveygizmolibrary.s3.amazonaws.com/library/642038/VN_Bosch.png\" title=\"Bosch\" style=\"height:130px;\" alt=\"VN_Bosch.png\" />:VN - Which of these brands of domestic appliances are you aware of?': 'Bosch',\n",
    "    '<img src=\"//surveygizmolibrary.s3.amazonaws.com/library/642038/VN_Midea.png\" title=\"Midea\" style=\"height:130px;\" alt=\"VN_Midea.png\" />:VN - Which of these brands of domestic appliances are you aware of?': 'Midea'\n",
    "})\n",
    "\n",
    "print(Vietnam.head())"
   ]
  },
  {
   "cell_type": "code",
   "execution_count": 34,
   "metadata": {},
   "outputs": [
    {
     "name": "stdout",
     "output_type": "stream",
     "text": [
      "   Response ID    Brand  Aware Y/N\n",
      "0        78271  Samsung          1\n",
      "1        78275  Samsung          1\n",
      "2        78287  Samsung          1\n",
      "3        78291  Samsung          1\n",
      "4        78358  Samsung          1\n"
     ]
    }
   ],
   "source": [
    "# Unpivot the DataFrame, renaming 'Variable' to 'Brand'\n",
    "vietnam_melted = Vietnam.melt(id_vars=['Response ID'], var_name='Brand', value_name='Aware Y/N')\n",
    "\n",
    "# Replace null values in the 'Aware Y/N' column with \"None of these\"\n",
    "# vietnam_melted['Aware Y/N'] = vietnam_melted['Aware Y/N'].fillna(\"None of these\")\n",
    "vietnam_melted['Aware Y/N'] = vietnam_melted['Aware Y/N'].fillna(0).astype(int)\n",
    "\n",
    "print(vietnam_melted.head())"
   ]
  },
  {
   "cell_type": "code",
   "execution_count": 35,
   "metadata": {},
   "outputs": [
    {
     "name": "stdout",
     "output_type": "stream",
     "text": [
      "Aware Y/N\n",
      "0     2191\n",
      "1      329\n",
      "3      303\n",
      "2      296\n",
      "4      233\n",
      "6      210\n",
      "9      210\n",
      "5      205\n",
      "10     200\n",
      "7      193\n",
      "8      175\n",
      "11     140\n",
      "12     115\n",
      "Name: count, dtype: int64\n"
     ]
    }
   ],
   "source": [
    "appliances_value_counts = vietnam_melted['Aware Y/N'].value_counts()\n",
    "print(appliances_value_counts)"
   ]
  },
  {
   "cell_type": "markdown",
   "metadata": {},
   "source": [
    "### Australia"
   ]
  },
  {
   "cell_type": "code",
   "execution_count": 36,
   "metadata": {},
   "outputs": [
    {
     "name": "stdout",
     "output_type": "stream",
     "text": [
      "<class 'pandas.core.frame.DataFrame'>\n",
      "RangeIndex: 397 entries, 0 to 396\n",
      "Data columns (total 13 columns):\n",
      " #   Column                                                                                                                                                                                                                            Non-Null Count  Dtype  \n",
      "---  ------                                                                                                                                                                                                                            --------------  -----  \n",
      " 0   Response ID                                                                                                                                                                                                                       397 non-null    int64  \n",
      " 1   <img src=\"//surveygizmolibrary.s3.amazonaws.com/library/642038/AU_Samsung.png\" title=\"Samsung\" style=\"height:130px;\" alt=\"AU_Samsung.png\" />:AU - Which of these brands of domestic appliances are you aware of?                  324 non-null    float64\n",
      " 2   <img src=\"//surveygizmolibrary.s3.amazonaws.com/library/642038/AU_LG.png\" title=\"LG\" style=\"height:130px;\" alt=\"AU_LG.png\" />:AU - Which of these brands of domestic appliances are you aware of?                                 333 non-null    float64\n",
      " 3   <img src=\"//surveygizmolibrary.s3.amazonaws.com/library/642038/AU_Dyson.png\" title=\"Dyson\" style=\"height:130px;\" alt=\"AU_Dyson.png\" />:AU - Which of these brands of domestic appliances are you aware of?                        317 non-null    float64\n",
      " 4   <img src=\"//surveygizmolibrary.s3.amazonaws.com/library/642038/AU_Westinghouse.png\" title=\"Westinghouse\" style=\"height:130px;\" alt=\"AU_Westinghouse.png\" />:AU - Which of these brands of domestic appliances are you aware of?   281 non-null    float64\n",
      " 5   <img src=\"//surveygizmolibrary.s3.amazonaws.com/library/642038/AU_FisherPaykel.png\" title=\"Fisher Paykel\" style=\"height:130px;\" alt=\"AU_FisherPaykel.png\" />:AU - Which of these brands of domestic appliances are you aware of?  267 non-null    float64\n",
      " 6   <img src=\"//surveygizmolibrary.s3.amazonaws.com/library/642038/AU_Bosch.png\" title=\"Bosch\" style=\"height:130px;\" alt=\"AU_Bosch.png\" />:AU - Which of these brands of domestic appliances are you aware of?                        281 non-null    float64\n",
      " 7   <img src=\"//surveygizmolibrary.s3.amazonaws.com/library/642038/AU_Hisense.png\" title=\"Hisense\" style=\"height:130px;\" alt=\"AU_Hisense.png\" />:AU - Which of these brands of domestic appliances are you aware of?                  261 non-null    float64\n",
      " 8   <img src=\"//surveygizmolibrary.s3.amazonaws.com/library/642038/AU_Miele.png\" title=\"Miele\" style=\"height:130px;\" alt=\"AU_Miele.png\" />:AU - Which of these brands of domestic appliances are you aware of?                        235 non-null    float64\n",
      " 9   <img src=\"//surveygizmolibrary.s3.amazonaws.com/library/642038/AU_Smeg.png\" title=\"Smeg\" style=\"height:130px;\" alt=\"AU_Smeg.png\" />:AU - Which of these brands of domestic appliances are you aware of?                           214 non-null    float64\n",
      " 10  <img src=\"//surveygizmolibrary.s3.amazonaws.com/library/642038/AU_Electrolux.png\" title=\"Electrolux\" style=\"height:130px;\" alt=\"AU_Electrolux.png\" />:AU - Which of these brands of domestic appliances are you aware of?         245 non-null    float64\n",
      " 11  <img src=\"//surveygizmolibrary.s3.amazonaws.com/library/642038/AU_Haier.png\" title=\"Haier\" style=\"height:130px;\" alt=\"AU_Haier.png\" />:AU - Which of these brands of domestic appliances are you aware of?                        192 non-null    float64\n",
      " 12  <img src=\"//surveygizmolibrary.s3.amazonaws.com/library/642038/AU_AEG.png\" title=\"AEG\" style=\"height:130px;\" alt=\"AU_AEG.png\" />:AU - Which of these brands of domestic appliances are you aware of?                              124 non-null    float64\n",
      "dtypes: float64(12), int64(1)\n",
      "memory usage: 40.4 KB\n"
     ]
    }
   ],
   "source": [
    "Australia.info()"
   ]
  },
  {
   "cell_type": "code",
   "execution_count": 37,
   "metadata": {},
   "outputs": [
    {
     "name": "stdout",
     "output_type": "stream",
     "text": [
      "   Response ID  Samsung   LG  Dyson  Westinghouse  Fisher Paykel  Bosch  \\\n",
      "0        78293      1.0  2.0    NaN           NaN            NaN    6.0   \n",
      "1        78361      1.0  2.0    3.0           4.0            5.0    6.0   \n",
      "2        78394      NaN  2.0    3.0           NaN            5.0    NaN   \n",
      "3        78406      NaN  NaN    NaN           NaN            NaN    6.0   \n",
      "4        78429      1.0  NaN    3.0           NaN            NaN    NaN   \n",
      "\n",
      "   Hisense  Miele  Smeg  Electrolux  Haier  AEG  \n",
      "0      7.0    NaN   NaN         NaN    NaN  NaN  \n",
      "1      7.0    8.0   9.0        10.0    NaN  NaN  \n",
      "2      NaN    8.0   NaN         NaN    NaN  NaN  \n",
      "3      NaN    8.0   NaN         NaN    NaN  NaN  \n",
      "4      NaN    NaN   NaN         NaN    NaN  NaN  \n"
     ]
    }
   ],
   "source": [
    "# Rename specific columns in the DataFrame\n",
    "Australia = Australia.rename(columns={\n",
    "    '<img src=\"//surveygizmolibrary.s3.amazonaws.com/library/642038/AU_Samsung.png\" title=\"Samsung\" style=\"height:130px;\" alt=\"AU_Samsung.png\" />:AU - Which of these brands of domestic appliances are you aware of?': 'Samsung',\n",
    "    '<img src=\"//surveygizmolibrary.s3.amazonaws.com/library/642038/AU_LG.png\" title=\"LG\" style=\"height:130px;\" alt=\"AU_LG.png\" />:AU - Which of these brands of domestic appliances are you aware of?': 'LG',\n",
    "    '<img src=\"//surveygizmolibrary.s3.amazonaws.com/library/642038/AU_Dyson.png\" title=\"Dyson\" style=\"height:130px;\" alt=\"AU_Dyson.png\" />:AU - Which of these brands of domestic appliances are you aware of?': 'Dyson',\n",
    "    '<img src=\"//surveygizmolibrary.s3.amazonaws.com/library/642038/AU_Westinghouse.png\" title=\"Westinghouse\" style=\"height:130px;\" alt=\"AU_Westinghouse.png\" />:AU - Which of these brands of domestic appliances are you aware of?': 'Westinghouse',\n",
    "    '<img src=\"//surveygizmolibrary.s3.amazonaws.com/library/642038/AU_FisherPaykel.png\" title=\"Fisher Paykel\" style=\"height:130px;\" alt=\"AU_FisherPaykel.png\" />:AU - Which of these brands of domestic appliances are you aware of?': 'Fisher Paykel',\n",
    "    '<img src=\"//surveygizmolibrary.s3.amazonaws.com/library/642038/AU_Bosch.png\" title=\"Bosch\" style=\"height:130px;\" alt=\"AU_Bosch.png\" />:AU - Which of these brands of domestic appliances are you aware of?': 'Bosch',\n",
    "    '<img src=\"//surveygizmolibrary.s3.amazonaws.com/library/642038/AU_Hisense.png\" title=\"Hisense\" style=\"height:130px;\" alt=\"AU_Hisense.png\" />:AU - Which of these brands of domestic appliances are you aware of?': 'Hisense',\n",
    "    '<img src=\"//surveygizmolibrary.s3.amazonaws.com/library/642038/AU_Miele.png\" title=\"Miele\" style=\"height:130px;\" alt=\"AU_Miele.png\" />:AU - Which of these brands of domestic appliances are you aware of?': 'Miele',\n",
    "    '<img src=\"//surveygizmolibrary.s3.amazonaws.com/library/642038/AU_Smeg.png\" title=\"Smeg\" style=\"height:130px;\" alt=\"AU_Smeg.png\" />:AU - Which of these brands of domestic appliances are you aware of?': 'Smeg',\n",
    "    '<img src=\"//surveygizmolibrary.s3.amazonaws.com/library/642038/AU_Electrolux.png\" title=\"Electrolux\" style=\"height:130px;\" alt=\"AU_Electrolux.png\" />:AU - Which of these brands of domestic appliances are you aware of?': 'Electrolux',\n",
    "    '<img src=\"//surveygizmolibrary.s3.amazonaws.com/library/642038/AU_Haier.png\" title=\"Haier\" style=\"height:130px;\" alt=\"AU_Haier.png\" />:AU - Which of these brands of domestic appliances are you aware of?': 'Haier',\n",
    "    '<img src=\"//surveygizmolibrary.s3.amazonaws.com/library/642038/AU_AEG.png\" title=\"AEG\" style=\"height:130px;\" alt=\"AU_AEG.png\" />:AU - Which of these brands of domestic appliances are you aware of?': 'AEG'\n",
    "})\n",
    "\n",
    "print(Australia.head())"
   ]
  },
  {
   "cell_type": "code",
   "execution_count": 38,
   "metadata": {},
   "outputs": [
    {
     "name": "stdout",
     "output_type": "stream",
     "text": [
      "   Response ID    Brand  Aware Y/N\n",
      "0        78293  Samsung          1\n",
      "1        78361  Samsung          1\n",
      "2        78394  Samsung          0\n",
      "3        78406  Samsung          0\n",
      "4        78429  Samsung          1\n"
     ]
    }
   ],
   "source": [
    "# Unpivot the DataFrame, renaming 'Variable' to 'Brand'\n",
    "australia_melted = Australia.melt(id_vars=['Response ID'], var_name='Brand', value_name='Aware Y/N')\n",
    "\n",
    "# Replace null values in the 'Aware Y/N' column with \"None of these\"\n",
    "# australia_melted['Aware Y/N'] = australia_melted['Aware Y/N'].fillna(\"None of these\")\n",
    "australia_melted['Aware Y/N'] = australia_melted['Aware Y/N'].fillna(0).astype(int)\n",
    "\n",
    "print(australia_melted.head())"
   ]
  },
  {
   "cell_type": "code",
   "execution_count": 39,
   "metadata": {},
   "outputs": [
    {
     "name": "stdout",
     "output_type": "stream",
     "text": [
      "Aware Y/N\n",
      "0     1690\n",
      "2      333\n",
      "1      324\n",
      "3      317\n",
      "4      281\n",
      "6      281\n",
      "5      267\n",
      "7      261\n",
      "10     245\n",
      "8      235\n",
      "9      214\n",
      "11     192\n",
      "12     124\n",
      "Name: count, dtype: int64\n"
     ]
    }
   ],
   "source": [
    "appliances_value_counts = australia_melted['Aware Y/N'].value_counts()\n",
    "print(appliances_value_counts)"
   ]
  },
  {
   "cell_type": "markdown",
   "metadata": {},
   "source": [
    "### Concat all the files and ave them into another csv file"
   ]
  },
  {
   "cell_type": "code",
   "execution_count": 40,
   "metadata": {},
   "outputs": [
    {
     "name": "stdout",
     "output_type": "stream",
     "text": [
      "   Response ID    Brand  Aware Y/N\n",
      "0        78293  Samsung          1\n",
      "1        78361  Samsung          1\n"
     ]
    }
   ],
   "source": [
    "# Concatenate the melted DataFrames\n",
    "combined_melted_df = pd.concat([australia_melted, germany_melted, uk_melted, vietnam_melted, poland_melted, \n",
    "                                switzerland_melted, sweden_melted, italy_melted, thailand_melted], ignore_index=True)\n",
    "\n",
    "combined_melted_df.dropna(subset=['Response ID'], inplace=True)\n",
    "\n",
    "combined_melted_df['Aware Y/N'] = combined_melted_df['Aware Y/N'].fillna(0).astype(int)\n",
    "\n",
    "# combined_melted_df.to_excel(r'C:\\Users\\aisar\\OneDrive\\Documents\\ELECTROLUX\\PROCESSED-DATA\\SEPTEMBER\\combined_q13.xlsx', float_format='%.0f', index=False)\n",
    "# combined_melted_df.to_excel(r'C:\\Users\\aisar\\OneDrive\\Documents\\ELECTROLUX\\PROCESSED-DATA\\\\OCTOBER\\combined_q13.xlsx', float_format='%.0f', index=False)\n",
    "# combined_melted_df.to_excel(r'C:\\Users\\aisar\\OneDrive\\Documents\\ELECTROLUX\\PROCESSED-DATA\\NOVEMBER\\combined_q13.xlsx', float_format='%.0f', index=False)\n",
    "combined_melted_df.to_excel(r'C:\\Users\\aisar\\OneDrive\\Documents\\ELECTROLUX\\PROCESSED-DATA\\DECEMBER\\combined_q13.xlsx', float_format='%.0f', index=False)\n",
    "\n",
    "print(combined_melted_df.head(2))"
   ]
  },
  {
   "cell_type": "code",
   "execution_count": 41,
   "metadata": {},
   "outputs": [
    {
     "name": "stdout",
     "output_type": "stream",
     "text": [
      "<class 'pandas.core.frame.DataFrame'>\n",
      "RangeIndex: 42612 entries, 0 to 42611\n",
      "Data columns (total 3 columns):\n",
      " #   Column       Non-Null Count  Dtype \n",
      "---  ------       --------------  ----- \n",
      " 0   Response ID  42612 non-null  int64 \n",
      " 1   Brand        42612 non-null  object\n",
      " 2   Aware Y/N    42612 non-null  int64 \n",
      "dtypes: int64(2), object(1)\n",
      "memory usage: 998.8+ KB\n"
     ]
    }
   ],
   "source": [
    "combined_melted_df.info()"
   ]
  },
  {
   "cell_type": "code",
   "execution_count": 42,
   "metadata": {},
   "outputs": [
    {
     "name": "stdout",
     "output_type": "stream",
     "text": [
      "Aware Y/N\n",
      "0     15051\n",
      "2      2858\n",
      "3      2727\n",
      "5      2614\n",
      "1      2588\n",
      "4      2566\n",
      "6      2550\n",
      "7      2461\n",
      "8      2323\n",
      "9      2103\n",
      "10     1836\n",
      "11     1561\n",
      "12     1374\n",
      "Name: count, dtype: int64\n"
     ]
    }
   ],
   "source": [
    "counts = combined_melted_df['Aware Y/N'].value_counts()\n",
    "print(counts)"
   ]
  },
  {
   "cell_type": "code",
   "execution_count": 43,
   "metadata": {},
   "outputs": [
    {
     "name": "stdout",
     "output_type": "stream",
     "text": [
      "<class 'pandas.core.frame.DataFrame'>\n",
      "RangeIndex: 42612 entries, 0 to 42611\n",
      "Data columns (total 3 columns):\n",
      " #   Column       Non-Null Count  Dtype \n",
      "---  ------       --------------  ----- \n",
      " 0   Response ID  42612 non-null  int64 \n",
      " 1   Brand        42612 non-null  object\n",
      " 2   Aware Y/N    42612 non-null  int64 \n",
      "dtypes: int64(2), object(1)\n",
      "memory usage: 998.8+ KB\n"
     ]
    }
   ],
   "source": [
    "combined_melted_df.info()"
   ]
  },
  {
   "cell_type": "code",
   "execution_count": 44,
   "metadata": {},
   "outputs": [
    {
     "name": "stdout",
     "output_type": "stream",
     "text": [
      "Count of blank values in 'Aware Y/N': 0\n"
     ]
    }
   ],
   "source": [
    "# Count blank (empty or NaN) values in 'Aware Y/N'\n",
    "blank_count = combined_melted_df[combined_melted_df['Aware Y/N'].isna() | (combined_melted_df['Aware Y/N'] == '')].shape[0]\n",
    "\n",
    "# Display the count of blank values\n",
    "print(\"Count of blank values in 'Aware Y/N':\", blank_count)\n"
   ]
  },
  {
   "cell_type": "code",
   "execution_count": 45,
   "metadata": {},
   "outputs": [
    {
     "name": "stdout",
     "output_type": "stream",
     "text": [
      "       Response ID  Brand  Aware Y/N\n",
      "3976         78450  Haier         11\n",
      "3977         78453  Haier         11\n",
      "3979         78484  Haier         11\n",
      "3980         78557  Haier         11\n",
      "3983         78663  Haier         11\n",
      "...            ...    ...        ...\n",
      "42202        94377  Bosch         11\n",
      "42204        94633  Bosch         11\n",
      "42205        94656  Bosch         11\n",
      "42208        95265  Bosch         11\n",
      "42211        95492  Bosch         11\n",
      "\n",
      "[1561 rows x 3 columns]\n"
     ]
    }
   ],
   "source": [
    "# Filter rows where 'Aware Y/N' equals 11\n",
    "filtered_rows = combined_melted_df[combined_melted_df['Aware Y/N'] == 11]\n",
    "\n",
    "# Display the filtered rows\n",
    "print(filtered_rows)\n"
   ]
  },
  {
   "cell_type": "code",
   "execution_count": 46,
   "metadata": {},
   "outputs": [
    {
     "name": "stdout",
     "output_type": "stream",
     "text": [
      "Brand\n",
      "Haier       486\n",
      "Bosch       316\n",
      "Siemens     270\n",
      "AEG         197\n",
      "Miele       150\n",
      "Liebherr    142\n",
      "Name: count, dtype: int64\n"
     ]
    }
   ],
   "source": [
    "counts = filtered_rows['Brand'].value_counts()\n",
    "print(counts)"
   ]
  }
 ],
 "metadata": {
  "kernelspec": {
   "display_name": "Python 3",
   "language": "python",
   "name": "python3"
  },
  "language_info": {
   "codemirror_mode": {
    "name": "ipython",
    "version": 3
   },
   "file_extension": ".py",
   "mimetype": "text/x-python",
   "name": "python",
   "nbconvert_exporter": "python",
   "pygments_lexer": "ipython3",
   "version": "3.13.0"
  }
 },
 "nbformat": 4,
 "nbformat_minor": 2
}
